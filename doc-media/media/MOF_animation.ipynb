{
 "cells": [
  {
   "cell_type": "code",
   "execution_count": 1,
   "id": "7b1f9d7d",
   "metadata": {},
   "outputs": [
    {
     "data": {
      "text/html": [
       "<pre style=\"white-space:pre;overflow-x:auto;line-height:normal;font-family:Menlo,'DejaVu Sans Mono',consolas,'Courier New',monospace\">Manim Community <span style=\"color: #008000; text-decoration-color: #008000\">v0.17.3</span>\n",
       "\n",
       "</pre>\n"
      ],
      "text/plain": [
       "Manim Community \u001b[32mv0.\u001b[0m\u001b[32m17.3\u001b[0m\n",
       "\n"
      ]
     },
     "metadata": {},
     "output_type": "display_data"
    }
   ],
   "source": [
    "from manim import *\n",
    "import numpy as np\n",
    "from manim.utils.color import Colors"
   ]
  },
  {
   "cell_type": "code",
   "execution_count": 2,
   "id": "8099b954",
   "metadata": {},
   "outputs": [],
   "source": [
    "config.disable_caching = True"
   ]
  },
  {
   "cell_type": "code",
   "execution_count": 3,
   "id": "a6c15d86",
   "metadata": {},
   "outputs": [
    {
     "data": {
      "text/html": [
       "<pre style=\"white-space:pre;overflow-x:auto;line-height:normal;font-family:Menlo,'DejaVu Sans Mono',consolas,'Courier New',monospace\"><span style=\"color: #7fbfbf; text-decoration-color: #7fbfbf\">[10/18/23 12:24:38] </span><span style=\"color: #008000; text-decoration-color: #008000\">INFO    </span> Caching disabled.                                                 <a href=\"file:///Users/Brian/workspace/Research/CO2_Capture_GNN/.conda/lib/python3.10/site-packages/manim/renderer/cairo_renderer.py\" target=\"_blank\"><span style=\"color: #7f7f7f; text-decoration-color: #7f7f7f\">cairo_renderer.py</span></a><span style=\"color: #7f7f7f; text-decoration-color: #7f7f7f\">:</span><a href=\"file:///Users/Brian/workspace/Research/CO2_Capture_GNN/.conda/lib/python3.10/site-packages/manim/renderer/cairo_renderer.py#68\" target=\"_blank\"><span style=\"color: #7f7f7f; text-decoration-color: #7f7f7f\">68</span></a>\n",
       "</pre>\n"
      ],
      "text/plain": [
       "\u001b[2;36m[10/18/23 12:24:38]\u001b[0m\u001b[2;36m \u001b[0m\u001b[32mINFO    \u001b[0m Caching disabled.                                                 \u001b]8;id=290712;file:///Users/Brian/workspace/Research/CO2_Capture_GNN/.conda/lib/python3.10/site-packages/manim/renderer/cairo_renderer.py\u001b\\\u001b[2mcairo_renderer.py\u001b[0m\u001b]8;;\u001b\\\u001b[2m:\u001b[0m\u001b]8;id=11767;file:///Users/Brian/workspace/Research/CO2_Capture_GNN/.conda/lib/python3.10/site-packages/manim/renderer/cairo_renderer.py#68\u001b\\\u001b[2m68\u001b[0m\u001b]8;;\u001b\\\n"
      ]
     },
     "metadata": {},
     "output_type": "display_data"
    },
    {
     "name": "stderr",
     "output_type": "stream",
     "text": [
      "                                                                                              \r"
     ]
    },
    {
     "data": {
      "text/html": [
       "<pre style=\"white-space:pre;overflow-x:auto;line-height:normal;font-family:Menlo,'DejaVu Sans Mono',consolas,'Courier New',monospace\"><span style=\"color: #7fbfbf; text-decoration-color: #7fbfbf\">[10/18/23 12:24:42] </span><span style=\"color: #008000; text-decoration-color: #008000\">INFO    </span> Animation <span style=\"color: #008000; text-decoration-color: #008000\">0</span> : Partial movie file written in                   <a href=\"file:///Users/Brian/workspace/Research/CO2_Capture_GNN/.conda/lib/python3.10/site-packages/manim/scene/scene_file_writer.py\" target=\"_blank\"><span style=\"color: #7f7f7f; text-decoration-color: #7f7f7f\">scene_file_writer.py</span></a><span style=\"color: #7f7f7f; text-decoration-color: #7f7f7f\">:</span><a href=\"file:///Users/Brian/workspace/Research/CO2_Capture_GNN/.conda/lib/python3.10/site-packages/manim/scene/scene_file_writer.py#527\" target=\"_blank\"><span style=\"color: #7f7f7f; text-decoration-color: #7f7f7f\">527</span></a>\n",
       "<span style=\"color: #7fbfbf; text-decoration-color: #7fbfbf\">                    </span>         <span style=\"color: #008000; text-decoration-color: #008000\">'/Users/Brian/workspace/Research/CO2_Capture_GNN/doc-media/me</span> <span style=\"color: #7f7f7f; text-decoration-color: #7f7f7f\">                        </span>\n",
       "<span style=\"color: #7fbfbf; text-decoration-color: #7fbfbf\">                    </span>         <span style=\"color: #008000; text-decoration-color: #008000\">dia/media/videos/media/720p30/partial_movie_files/anim/uncach</span> <span style=\"color: #7f7f7f; text-decoration-color: #7f7f7f\">                        </span>\n",
       "<span style=\"color: #7fbfbf; text-decoration-color: #7fbfbf\">                    </span>         <span style=\"color: #008000; text-decoration-color: #008000\">ed_00000.mp4'</span>                                                 <span style=\"color: #7f7f7f; text-decoration-color: #7f7f7f\">                        </span>\n",
       "</pre>\n"
      ],
      "text/plain": [
       "\u001b[2;36m[10/18/23 12:24:42]\u001b[0m\u001b[2;36m \u001b[0m\u001b[32mINFO    \u001b[0m Animation \u001b[32m0\u001b[0m : Partial movie file written in                   \u001b]8;id=517174;file:///Users/Brian/workspace/Research/CO2_Capture_GNN/.conda/lib/python3.10/site-packages/manim/scene/scene_file_writer.py\u001b\\\u001b[2mscene_file_writer.py\u001b[0m\u001b]8;;\u001b\\\u001b[2m:\u001b[0m\u001b]8;id=3219;file:///Users/Brian/workspace/Research/CO2_Capture_GNN/.conda/lib/python3.10/site-packages/manim/scene/scene_file_writer.py#527\u001b\\\u001b[2m527\u001b[0m\u001b]8;;\u001b\\\n",
       "\u001b[2;36m                    \u001b[0m         \u001b[32m'/Users/Brian/workspace/Research/CO2_Capture_GNN/doc-media/me\u001b[0m \u001b[2m                        \u001b[0m\n",
       "\u001b[2;36m                    \u001b[0m         \u001b[32mdia/media/videos/media/720p30/partial_movie_files/anim/uncach\u001b[0m \u001b[2m                        \u001b[0m\n",
       "\u001b[2;36m                    \u001b[0m         \u001b[32med_00000.mp4'\u001b[0m                                                 \u001b[2m                        \u001b[0m\n"
      ]
     },
     "metadata": {},
     "output_type": "display_data"
    },
    {
     "data": {
      "text/html": [
       "<pre style=\"white-space:pre;overflow-x:auto;line-height:normal;font-family:Menlo,'DejaVu Sans Mono',consolas,'Courier New',monospace\"><span style=\"color: #7fbfbf; text-decoration-color: #7fbfbf\">                    </span><span style=\"color: #008000; text-decoration-color: #008000\">INFO    </span> Caching disabled.                                                 <a href=\"file:///Users/Brian/workspace/Research/CO2_Capture_GNN/.conda/lib/python3.10/site-packages/manim/renderer/cairo_renderer.py\" target=\"_blank\"><span style=\"color: #7f7f7f; text-decoration-color: #7f7f7f\">cairo_renderer.py</span></a><span style=\"color: #7f7f7f; text-decoration-color: #7f7f7f\">:</span><a href=\"file:///Users/Brian/workspace/Research/CO2_Capture_GNN/.conda/lib/python3.10/site-packages/manim/renderer/cairo_renderer.py#68\" target=\"_blank\"><span style=\"color: #7f7f7f; text-decoration-color: #7f7f7f\">68</span></a>\n",
       "</pre>\n"
      ],
      "text/plain": [
       "\u001b[2;36m                   \u001b[0m\u001b[2;36m \u001b[0m\u001b[32mINFO    \u001b[0m Caching disabled.                                                 \u001b]8;id=443682;file:///Users/Brian/workspace/Research/CO2_Capture_GNN/.conda/lib/python3.10/site-packages/manim/renderer/cairo_renderer.py\u001b\\\u001b[2mcairo_renderer.py\u001b[0m\u001b]8;;\u001b\\\u001b[2m:\u001b[0m\u001b]8;id=116306;file:///Users/Brian/workspace/Research/CO2_Capture_GNN/.conda/lib/python3.10/site-packages/manim/renderer/cairo_renderer.py#68\u001b\\\u001b[2m68\u001b[0m\u001b]8;;\u001b\\\n"
      ]
     },
     "metadata": {},
     "output_type": "display_data"
    },
    {
     "name": "stderr",
     "output_type": "stream",
     "text": [
      "                                                                                                             \r"
     ]
    },
    {
     "data": {
      "text/html": [
       "<pre style=\"white-space:pre;overflow-x:auto;line-height:normal;font-family:Menlo,'DejaVu Sans Mono',consolas,'Courier New',monospace\"><span style=\"color: #7fbfbf; text-decoration-color: #7fbfbf\">[10/18/23 12:24:47] </span><span style=\"color: #008000; text-decoration-color: #008000\">INFO    </span> Animation <span style=\"color: #008000; text-decoration-color: #008000\">1</span> : Partial movie file written in                   <a href=\"file:///Users/Brian/workspace/Research/CO2_Capture_GNN/.conda/lib/python3.10/site-packages/manim/scene/scene_file_writer.py\" target=\"_blank\"><span style=\"color: #7f7f7f; text-decoration-color: #7f7f7f\">scene_file_writer.py</span></a><span style=\"color: #7f7f7f; text-decoration-color: #7f7f7f\">:</span><a href=\"file:///Users/Brian/workspace/Research/CO2_Capture_GNN/.conda/lib/python3.10/site-packages/manim/scene/scene_file_writer.py#527\" target=\"_blank\"><span style=\"color: #7f7f7f; text-decoration-color: #7f7f7f\">527</span></a>\n",
       "<span style=\"color: #7fbfbf; text-decoration-color: #7fbfbf\">                    </span>         <span style=\"color: #008000; text-decoration-color: #008000\">'/Users/Brian/workspace/Research/CO2_Capture_GNN/doc-media/me</span> <span style=\"color: #7f7f7f; text-decoration-color: #7f7f7f\">                        </span>\n",
       "<span style=\"color: #7fbfbf; text-decoration-color: #7fbfbf\">                    </span>         <span style=\"color: #008000; text-decoration-color: #008000\">dia/media/videos/media/720p30/partial_movie_files/anim/uncach</span> <span style=\"color: #7f7f7f; text-decoration-color: #7f7f7f\">                        </span>\n",
       "<span style=\"color: #7fbfbf; text-decoration-color: #7fbfbf\">                    </span>         <span style=\"color: #008000; text-decoration-color: #008000\">ed_00001.mp4'</span>                                                 <span style=\"color: #7f7f7f; text-decoration-color: #7f7f7f\">                        </span>\n",
       "</pre>\n"
      ],
      "text/plain": [
       "\u001b[2;36m[10/18/23 12:24:47]\u001b[0m\u001b[2;36m \u001b[0m\u001b[32mINFO    \u001b[0m Animation \u001b[32m1\u001b[0m : Partial movie file written in                   \u001b]8;id=415789;file:///Users/Brian/workspace/Research/CO2_Capture_GNN/.conda/lib/python3.10/site-packages/manim/scene/scene_file_writer.py\u001b\\\u001b[2mscene_file_writer.py\u001b[0m\u001b]8;;\u001b\\\u001b[2m:\u001b[0m\u001b]8;id=312818;file:///Users/Brian/workspace/Research/CO2_Capture_GNN/.conda/lib/python3.10/site-packages/manim/scene/scene_file_writer.py#527\u001b\\\u001b[2m527\u001b[0m\u001b]8;;\u001b\\\n",
       "\u001b[2;36m                    \u001b[0m         \u001b[32m'/Users/Brian/workspace/Research/CO2_Capture_GNN/doc-media/me\u001b[0m \u001b[2m                        \u001b[0m\n",
       "\u001b[2;36m                    \u001b[0m         \u001b[32mdia/media/videos/media/720p30/partial_movie_files/anim/uncach\u001b[0m \u001b[2m                        \u001b[0m\n",
       "\u001b[2;36m                    \u001b[0m         \u001b[32med_00001.mp4'\u001b[0m                                                 \u001b[2m                        \u001b[0m\n"
      ]
     },
     "metadata": {},
     "output_type": "display_data"
    },
    {
     "data": {
      "text/html": [
       "<pre style=\"white-space:pre;overflow-x:auto;line-height:normal;font-family:Menlo,'DejaVu Sans Mono',consolas,'Courier New',monospace\"><span style=\"color: #7fbfbf; text-decoration-color: #7fbfbf\">                    </span><span style=\"color: #008000; text-decoration-color: #008000\">INFO    </span> Caching disabled.                                                 <a href=\"file:///Users/Brian/workspace/Research/CO2_Capture_GNN/.conda/lib/python3.10/site-packages/manim/renderer/cairo_renderer.py\" target=\"_blank\"><span style=\"color: #7f7f7f; text-decoration-color: #7f7f7f\">cairo_renderer.py</span></a><span style=\"color: #7f7f7f; text-decoration-color: #7f7f7f\">:</span><a href=\"file:///Users/Brian/workspace/Research/CO2_Capture_GNN/.conda/lib/python3.10/site-packages/manim/renderer/cairo_renderer.py#68\" target=\"_blank\"><span style=\"color: #7f7f7f; text-decoration-color: #7f7f7f\">68</span></a>\n",
       "</pre>\n"
      ],
      "text/plain": [
       "\u001b[2;36m                   \u001b[0m\u001b[2;36m \u001b[0m\u001b[32mINFO    \u001b[0m Caching disabled.                                                 \u001b]8;id=511017;file:///Users/Brian/workspace/Research/CO2_Capture_GNN/.conda/lib/python3.10/site-packages/manim/renderer/cairo_renderer.py\u001b\\\u001b[2mcairo_renderer.py\u001b[0m\u001b]8;;\u001b\\\u001b[2m:\u001b[0m\u001b]8;id=15709;file:///Users/Brian/workspace/Research/CO2_Capture_GNN/.conda/lib/python3.10/site-packages/manim/renderer/cairo_renderer.py#68\u001b\\\u001b[2m68\u001b[0m\u001b]8;;\u001b\\\n"
      ]
     },
     "metadata": {},
     "output_type": "display_data"
    },
    {
     "name": "stderr",
     "output_type": "stream",
     "text": [
      "                                                                                             \r"
     ]
    },
    {
     "data": {
      "text/html": [
       "<pre style=\"white-space:pre;overflow-x:auto;line-height:normal;font-family:Menlo,'DejaVu Sans Mono',consolas,'Courier New',monospace\"><span style=\"color: #7fbfbf; text-decoration-color: #7fbfbf\">[10/18/23 12:24:48] </span><span style=\"color: #008000; text-decoration-color: #008000\">INFO    </span> Animation <span style=\"color: #008000; text-decoration-color: #008000\">2</span> : Partial movie file written in                   <a href=\"file:///Users/Brian/workspace/Research/CO2_Capture_GNN/.conda/lib/python3.10/site-packages/manim/scene/scene_file_writer.py\" target=\"_blank\"><span style=\"color: #7f7f7f; text-decoration-color: #7f7f7f\">scene_file_writer.py</span></a><span style=\"color: #7f7f7f; text-decoration-color: #7f7f7f\">:</span><a href=\"file:///Users/Brian/workspace/Research/CO2_Capture_GNN/.conda/lib/python3.10/site-packages/manim/scene/scene_file_writer.py#527\" target=\"_blank\"><span style=\"color: #7f7f7f; text-decoration-color: #7f7f7f\">527</span></a>\n",
       "<span style=\"color: #7fbfbf; text-decoration-color: #7fbfbf\">                    </span>         <span style=\"color: #008000; text-decoration-color: #008000\">'/Users/Brian/workspace/Research/CO2_Capture_GNN/doc-media/me</span> <span style=\"color: #7f7f7f; text-decoration-color: #7f7f7f\">                        </span>\n",
       "<span style=\"color: #7fbfbf; text-decoration-color: #7fbfbf\">                    </span>         <span style=\"color: #008000; text-decoration-color: #008000\">dia/media/videos/media/720p30/partial_movie_files/anim/uncach</span> <span style=\"color: #7f7f7f; text-decoration-color: #7f7f7f\">                        </span>\n",
       "<span style=\"color: #7fbfbf; text-decoration-color: #7fbfbf\">                    </span>         <span style=\"color: #008000; text-decoration-color: #008000\">ed_00002.mp4'</span>                                                 <span style=\"color: #7f7f7f; text-decoration-color: #7f7f7f\">                        </span>\n",
       "</pre>\n"
      ],
      "text/plain": [
       "\u001b[2;36m[10/18/23 12:24:48]\u001b[0m\u001b[2;36m \u001b[0m\u001b[32mINFO    \u001b[0m Animation \u001b[32m2\u001b[0m : Partial movie file written in                   \u001b]8;id=483355;file:///Users/Brian/workspace/Research/CO2_Capture_GNN/.conda/lib/python3.10/site-packages/manim/scene/scene_file_writer.py\u001b\\\u001b[2mscene_file_writer.py\u001b[0m\u001b]8;;\u001b\\\u001b[2m:\u001b[0m\u001b]8;id=930604;file:///Users/Brian/workspace/Research/CO2_Capture_GNN/.conda/lib/python3.10/site-packages/manim/scene/scene_file_writer.py#527\u001b\\\u001b[2m527\u001b[0m\u001b]8;;\u001b\\\n",
       "\u001b[2;36m                    \u001b[0m         \u001b[32m'/Users/Brian/workspace/Research/CO2_Capture_GNN/doc-media/me\u001b[0m \u001b[2m                        \u001b[0m\n",
       "\u001b[2;36m                    \u001b[0m         \u001b[32mdia/media/videos/media/720p30/partial_movie_files/anim/uncach\u001b[0m \u001b[2m                        \u001b[0m\n",
       "\u001b[2;36m                    \u001b[0m         \u001b[32med_00002.mp4'\u001b[0m                                                 \u001b[2m                        \u001b[0m\n"
      ]
     },
     "metadata": {},
     "output_type": "display_data"
    },
    {
     "data": {
      "text/html": [
       "<pre style=\"white-space:pre;overflow-x:auto;line-height:normal;font-family:Menlo,'DejaVu Sans Mono',consolas,'Courier New',monospace\"><span style=\"color: #7fbfbf; text-decoration-color: #7fbfbf\">                    </span><span style=\"color: #008000; text-decoration-color: #008000\">INFO    </span> Caching disabled.                                                 <a href=\"file:///Users/Brian/workspace/Research/CO2_Capture_GNN/.conda/lib/python3.10/site-packages/manim/renderer/cairo_renderer.py\" target=\"_blank\"><span style=\"color: #7f7f7f; text-decoration-color: #7f7f7f\">cairo_renderer.py</span></a><span style=\"color: #7f7f7f; text-decoration-color: #7f7f7f\">:</span><a href=\"file:///Users/Brian/workspace/Research/CO2_Capture_GNN/.conda/lib/python3.10/site-packages/manim/renderer/cairo_renderer.py#68\" target=\"_blank\"><span style=\"color: #7f7f7f; text-decoration-color: #7f7f7f\">68</span></a>\n",
       "</pre>\n"
      ],
      "text/plain": [
       "\u001b[2;36m                   \u001b[0m\u001b[2;36m \u001b[0m\u001b[32mINFO    \u001b[0m Caching disabled.                                                 \u001b]8;id=138169;file:///Users/Brian/workspace/Research/CO2_Capture_GNN/.conda/lib/python3.10/site-packages/manim/renderer/cairo_renderer.py\u001b\\\u001b[2mcairo_renderer.py\u001b[0m\u001b]8;;\u001b\\\u001b[2m:\u001b[0m\u001b]8;id=616666;file:///Users/Brian/workspace/Research/CO2_Capture_GNN/.conda/lib/python3.10/site-packages/manim/renderer/cairo_renderer.py#68\u001b\\\u001b[2m68\u001b[0m\u001b]8;;\u001b\\\n"
      ]
     },
     "metadata": {},
     "output_type": "display_data"
    },
    {
     "data": {
      "text/html": [
       "<pre style=\"white-space:pre;overflow-x:auto;line-height:normal;font-family:Menlo,'DejaVu Sans Mono',consolas,'Courier New',monospace\"><span style=\"color: #7fbfbf; text-decoration-color: #7fbfbf\">                    </span><span style=\"color: #008000; text-decoration-color: #008000\">INFO    </span> Animation <span style=\"color: #008000; text-decoration-color: #008000\">3</span> : Partial movie file written in                   <a href=\"file:///Users/Brian/workspace/Research/CO2_Capture_GNN/.conda/lib/python3.10/site-packages/manim/scene/scene_file_writer.py\" target=\"_blank\"><span style=\"color: #7f7f7f; text-decoration-color: #7f7f7f\">scene_file_writer.py</span></a><span style=\"color: #7f7f7f; text-decoration-color: #7f7f7f\">:</span><a href=\"file:///Users/Brian/workspace/Research/CO2_Capture_GNN/.conda/lib/python3.10/site-packages/manim/scene/scene_file_writer.py#527\" target=\"_blank\"><span style=\"color: #7f7f7f; text-decoration-color: #7f7f7f\">527</span></a>\n",
       "<span style=\"color: #7fbfbf; text-decoration-color: #7fbfbf\">                    </span>         <span style=\"color: #008000; text-decoration-color: #008000\">'/Users/Brian/workspace/Research/CO2_Capture_GNN/doc-media/me</span> <span style=\"color: #7f7f7f; text-decoration-color: #7f7f7f\">                        </span>\n",
       "<span style=\"color: #7fbfbf; text-decoration-color: #7fbfbf\">                    </span>         <span style=\"color: #008000; text-decoration-color: #008000\">dia/media/videos/media/720p30/partial_movie_files/anim/uncach</span> <span style=\"color: #7f7f7f; text-decoration-color: #7f7f7f\">                        </span>\n",
       "<span style=\"color: #7fbfbf; text-decoration-color: #7fbfbf\">                    </span>         <span style=\"color: #008000; text-decoration-color: #008000\">ed_00003.mp4'</span>                                                 <span style=\"color: #7f7f7f; text-decoration-color: #7f7f7f\">                        </span>\n",
       "</pre>\n"
      ],
      "text/plain": [
       "\u001b[2;36m                   \u001b[0m\u001b[2;36m \u001b[0m\u001b[32mINFO    \u001b[0m Animation \u001b[32m3\u001b[0m : Partial movie file written in                   \u001b]8;id=253724;file:///Users/Brian/workspace/Research/CO2_Capture_GNN/.conda/lib/python3.10/site-packages/manim/scene/scene_file_writer.py\u001b\\\u001b[2mscene_file_writer.py\u001b[0m\u001b]8;;\u001b\\\u001b[2m:\u001b[0m\u001b]8;id=369416;file:///Users/Brian/workspace/Research/CO2_Capture_GNN/.conda/lib/python3.10/site-packages/manim/scene/scene_file_writer.py#527\u001b\\\u001b[2m527\u001b[0m\u001b]8;;\u001b\\\n",
       "\u001b[2;36m                    \u001b[0m         \u001b[32m'/Users/Brian/workspace/Research/CO2_Capture_GNN/doc-media/me\u001b[0m \u001b[2m                        \u001b[0m\n",
       "\u001b[2;36m                    \u001b[0m         \u001b[32mdia/media/videos/media/720p30/partial_movie_files/anim/uncach\u001b[0m \u001b[2m                        \u001b[0m\n",
       "\u001b[2;36m                    \u001b[0m         \u001b[32med_00003.mp4'\u001b[0m                                                 \u001b[2m                        \u001b[0m\n"
      ]
     },
     "metadata": {},
     "output_type": "display_data"
    },
    {
     "data": {
      "text/html": [
       "<pre style=\"white-space:pre;overflow-x:auto;line-height:normal;font-family:Menlo,'DejaVu Sans Mono',consolas,'Courier New',monospace\"><span style=\"color: #7fbfbf; text-decoration-color: #7fbfbf\">                    </span><span style=\"color: #008000; text-decoration-color: #008000\">INFO    </span> Caching disabled.                                                 <a href=\"file:///Users/Brian/workspace/Research/CO2_Capture_GNN/.conda/lib/python3.10/site-packages/manim/renderer/cairo_renderer.py\" target=\"_blank\"><span style=\"color: #7f7f7f; text-decoration-color: #7f7f7f\">cairo_renderer.py</span></a><span style=\"color: #7f7f7f; text-decoration-color: #7f7f7f\">:</span><a href=\"file:///Users/Brian/workspace/Research/CO2_Capture_GNN/.conda/lib/python3.10/site-packages/manim/renderer/cairo_renderer.py#68\" target=\"_blank\"><span style=\"color: #7f7f7f; text-decoration-color: #7f7f7f\">68</span></a>\n",
       "</pre>\n"
      ],
      "text/plain": [
       "\u001b[2;36m                   \u001b[0m\u001b[2;36m \u001b[0m\u001b[32mINFO    \u001b[0m Caching disabled.                                                 \u001b]8;id=594704;file:///Users/Brian/workspace/Research/CO2_Capture_GNN/.conda/lib/python3.10/site-packages/manim/renderer/cairo_renderer.py\u001b\\\u001b[2mcairo_renderer.py\u001b[0m\u001b]8;;\u001b\\\u001b[2m:\u001b[0m\u001b]8;id=313997;file:///Users/Brian/workspace/Research/CO2_Capture_GNN/.conda/lib/python3.10/site-packages/manim/renderer/cairo_renderer.py#68\u001b\\\u001b[2m68\u001b[0m\u001b]8;;\u001b\\\n"
      ]
     },
     "metadata": {},
     "output_type": "display_data"
    },
    {
     "name": "stderr",
     "output_type": "stream",
     "text": [
      "                                                                                              \r"
     ]
    },
    {
     "data": {
      "text/html": [
       "<pre style=\"white-space:pre;overflow-x:auto;line-height:normal;font-family:Menlo,'DejaVu Sans Mono',consolas,'Courier New',monospace\"><span style=\"color: #7fbfbf; text-decoration-color: #7fbfbf\">[10/18/23 12:24:49] </span><span style=\"color: #008000; text-decoration-color: #008000\">INFO    </span> Animation <span style=\"color: #008000; text-decoration-color: #008000\">4</span> : Partial movie file written in                   <a href=\"file:///Users/Brian/workspace/Research/CO2_Capture_GNN/.conda/lib/python3.10/site-packages/manim/scene/scene_file_writer.py\" target=\"_blank\"><span style=\"color: #7f7f7f; text-decoration-color: #7f7f7f\">scene_file_writer.py</span></a><span style=\"color: #7f7f7f; text-decoration-color: #7f7f7f\">:</span><a href=\"file:///Users/Brian/workspace/Research/CO2_Capture_GNN/.conda/lib/python3.10/site-packages/manim/scene/scene_file_writer.py#527\" target=\"_blank\"><span style=\"color: #7f7f7f; text-decoration-color: #7f7f7f\">527</span></a>\n",
       "<span style=\"color: #7fbfbf; text-decoration-color: #7fbfbf\">                    </span>         <span style=\"color: #008000; text-decoration-color: #008000\">'/Users/Brian/workspace/Research/CO2_Capture_GNN/doc-media/me</span> <span style=\"color: #7f7f7f; text-decoration-color: #7f7f7f\">                        </span>\n",
       "<span style=\"color: #7fbfbf; text-decoration-color: #7fbfbf\">                    </span>         <span style=\"color: #008000; text-decoration-color: #008000\">dia/media/videos/media/720p30/partial_movie_files/anim/uncach</span> <span style=\"color: #7f7f7f; text-decoration-color: #7f7f7f\">                        </span>\n",
       "<span style=\"color: #7fbfbf; text-decoration-color: #7fbfbf\">                    </span>         <span style=\"color: #008000; text-decoration-color: #008000\">ed_00004.mp4'</span>                                                 <span style=\"color: #7f7f7f; text-decoration-color: #7f7f7f\">                        </span>\n",
       "</pre>\n"
      ],
      "text/plain": [
       "\u001b[2;36m[10/18/23 12:24:49]\u001b[0m\u001b[2;36m \u001b[0m\u001b[32mINFO    \u001b[0m Animation \u001b[32m4\u001b[0m : Partial movie file written in                   \u001b]8;id=632763;file:///Users/Brian/workspace/Research/CO2_Capture_GNN/.conda/lib/python3.10/site-packages/manim/scene/scene_file_writer.py\u001b\\\u001b[2mscene_file_writer.py\u001b[0m\u001b]8;;\u001b\\\u001b[2m:\u001b[0m\u001b]8;id=268579;file:///Users/Brian/workspace/Research/CO2_Capture_GNN/.conda/lib/python3.10/site-packages/manim/scene/scene_file_writer.py#527\u001b\\\u001b[2m527\u001b[0m\u001b]8;;\u001b\\\n",
       "\u001b[2;36m                    \u001b[0m         \u001b[32m'/Users/Brian/workspace/Research/CO2_Capture_GNN/doc-media/me\u001b[0m \u001b[2m                        \u001b[0m\n",
       "\u001b[2;36m                    \u001b[0m         \u001b[32mdia/media/videos/media/720p30/partial_movie_files/anim/uncach\u001b[0m \u001b[2m                        \u001b[0m\n",
       "\u001b[2;36m                    \u001b[0m         \u001b[32med_00004.mp4'\u001b[0m                                                 \u001b[2m                        \u001b[0m\n"
      ]
     },
     "metadata": {},
     "output_type": "display_data"
    },
    {
     "data": {
      "text/html": [
       "<pre style=\"white-space:pre;overflow-x:auto;line-height:normal;font-family:Menlo,'DejaVu Sans Mono',consolas,'Courier New',monospace\"><span style=\"color: #7fbfbf; text-decoration-color: #7fbfbf\">                    </span><span style=\"color: #008000; text-decoration-color: #008000\">INFO    </span> Caching disabled.                                                 <a href=\"file:///Users/Brian/workspace/Research/CO2_Capture_GNN/.conda/lib/python3.10/site-packages/manim/renderer/cairo_renderer.py\" target=\"_blank\"><span style=\"color: #7f7f7f; text-decoration-color: #7f7f7f\">cairo_renderer.py</span></a><span style=\"color: #7f7f7f; text-decoration-color: #7f7f7f\">:</span><a href=\"file:///Users/Brian/workspace/Research/CO2_Capture_GNN/.conda/lib/python3.10/site-packages/manim/renderer/cairo_renderer.py#68\" target=\"_blank\"><span style=\"color: #7f7f7f; text-decoration-color: #7f7f7f\">68</span></a>\n",
       "</pre>\n"
      ],
      "text/plain": [
       "\u001b[2;36m                   \u001b[0m\u001b[2;36m \u001b[0m\u001b[32mINFO    \u001b[0m Caching disabled.                                                 \u001b]8;id=280191;file:///Users/Brian/workspace/Research/CO2_Capture_GNN/.conda/lib/python3.10/site-packages/manim/renderer/cairo_renderer.py\u001b\\\u001b[2mcairo_renderer.py\u001b[0m\u001b]8;;\u001b\\\u001b[2m:\u001b[0m\u001b]8;id=874692;file:///Users/Brian/workspace/Research/CO2_Capture_GNN/.conda/lib/python3.10/site-packages/manim/renderer/cairo_renderer.py#68\u001b\\\u001b[2m68\u001b[0m\u001b]8;;\u001b\\\n"
      ]
     },
     "metadata": {},
     "output_type": "display_data"
    },
    {
     "name": "stderr",
     "output_type": "stream",
     "text": [
      "                                                                                                    \r"
     ]
    },
    {
     "data": {
      "text/html": [
       "<pre style=\"white-space:pre;overflow-x:auto;line-height:normal;font-family:Menlo,'DejaVu Sans Mono',consolas,'Courier New',monospace\"><span style=\"color: #7fbfbf; text-decoration-color: #7fbfbf\">[10/18/23 12:24:51] </span><span style=\"color: #008000; text-decoration-color: #008000\">INFO    </span> Animation <span style=\"color: #008000; text-decoration-color: #008000\">5</span> : Partial movie file written in                   <a href=\"file:///Users/Brian/workspace/Research/CO2_Capture_GNN/.conda/lib/python3.10/site-packages/manim/scene/scene_file_writer.py\" target=\"_blank\"><span style=\"color: #7f7f7f; text-decoration-color: #7f7f7f\">scene_file_writer.py</span></a><span style=\"color: #7f7f7f; text-decoration-color: #7f7f7f\">:</span><a href=\"file:///Users/Brian/workspace/Research/CO2_Capture_GNN/.conda/lib/python3.10/site-packages/manim/scene/scene_file_writer.py#527\" target=\"_blank\"><span style=\"color: #7f7f7f; text-decoration-color: #7f7f7f\">527</span></a>\n",
       "<span style=\"color: #7fbfbf; text-decoration-color: #7fbfbf\">                    </span>         <span style=\"color: #008000; text-decoration-color: #008000\">'/Users/Brian/workspace/Research/CO2_Capture_GNN/doc-media/me</span> <span style=\"color: #7f7f7f; text-decoration-color: #7f7f7f\">                        </span>\n",
       "<span style=\"color: #7fbfbf; text-decoration-color: #7fbfbf\">                    </span>         <span style=\"color: #008000; text-decoration-color: #008000\">dia/media/videos/media/720p30/partial_movie_files/anim/uncach</span> <span style=\"color: #7f7f7f; text-decoration-color: #7f7f7f\">                        </span>\n",
       "<span style=\"color: #7fbfbf; text-decoration-color: #7fbfbf\">                    </span>         <span style=\"color: #008000; text-decoration-color: #008000\">ed_00005.mp4'</span>                                                 <span style=\"color: #7f7f7f; text-decoration-color: #7f7f7f\">                        </span>\n",
       "</pre>\n"
      ],
      "text/plain": [
       "\u001b[2;36m[10/18/23 12:24:51]\u001b[0m\u001b[2;36m \u001b[0m\u001b[32mINFO    \u001b[0m Animation \u001b[32m5\u001b[0m : Partial movie file written in                   \u001b]8;id=287119;file:///Users/Brian/workspace/Research/CO2_Capture_GNN/.conda/lib/python3.10/site-packages/manim/scene/scene_file_writer.py\u001b\\\u001b[2mscene_file_writer.py\u001b[0m\u001b]8;;\u001b\\\u001b[2m:\u001b[0m\u001b]8;id=143918;file:///Users/Brian/workspace/Research/CO2_Capture_GNN/.conda/lib/python3.10/site-packages/manim/scene/scene_file_writer.py#527\u001b\\\u001b[2m527\u001b[0m\u001b]8;;\u001b\\\n",
       "\u001b[2;36m                    \u001b[0m         \u001b[32m'/Users/Brian/workspace/Research/CO2_Capture_GNN/doc-media/me\u001b[0m \u001b[2m                        \u001b[0m\n",
       "\u001b[2;36m                    \u001b[0m         \u001b[32mdia/media/videos/media/720p30/partial_movie_files/anim/uncach\u001b[0m \u001b[2m                        \u001b[0m\n",
       "\u001b[2;36m                    \u001b[0m         \u001b[32med_00005.mp4'\u001b[0m                                                 \u001b[2m                        \u001b[0m\n"
      ]
     },
     "metadata": {},
     "output_type": "display_data"
    },
    {
     "data": {
      "text/html": [
       "<pre style=\"white-space:pre;overflow-x:auto;line-height:normal;font-family:Menlo,'DejaVu Sans Mono',consolas,'Courier New',monospace\"><span style=\"color: #7fbfbf; text-decoration-color: #7fbfbf\">                    </span><span style=\"color: #008000; text-decoration-color: #008000\">INFO    </span> Caching disabled.                                                 <a href=\"file:///Users/Brian/workspace/Research/CO2_Capture_GNN/.conda/lib/python3.10/site-packages/manim/renderer/cairo_renderer.py\" target=\"_blank\"><span style=\"color: #7f7f7f; text-decoration-color: #7f7f7f\">cairo_renderer.py</span></a><span style=\"color: #7f7f7f; text-decoration-color: #7f7f7f\">:</span><a href=\"file:///Users/Brian/workspace/Research/CO2_Capture_GNN/.conda/lib/python3.10/site-packages/manim/renderer/cairo_renderer.py#68\" target=\"_blank\"><span style=\"color: #7f7f7f; text-decoration-color: #7f7f7f\">68</span></a>\n",
       "</pre>\n"
      ],
      "text/plain": [
       "\u001b[2;36m                   \u001b[0m\u001b[2;36m \u001b[0m\u001b[32mINFO    \u001b[0m Caching disabled.                                                 \u001b]8;id=992594;file:///Users/Brian/workspace/Research/CO2_Capture_GNN/.conda/lib/python3.10/site-packages/manim/renderer/cairo_renderer.py\u001b\\\u001b[2mcairo_renderer.py\u001b[0m\u001b]8;;\u001b\\\u001b[2m:\u001b[0m\u001b]8;id=717518;file:///Users/Brian/workspace/Research/CO2_Capture_GNN/.conda/lib/python3.10/site-packages/manim/renderer/cairo_renderer.py#68\u001b\\\u001b[2m68\u001b[0m\u001b]8;;\u001b\\\n"
      ]
     },
     "metadata": {},
     "output_type": "display_data"
    },
    {
     "name": "stderr",
     "output_type": "stream",
     "text": [
      "                                                                                              \r"
     ]
    },
    {
     "data": {
      "text/html": [
       "<pre style=\"white-space:pre;overflow-x:auto;line-height:normal;font-family:Menlo,'DejaVu Sans Mono',consolas,'Courier New',monospace\"><span style=\"color: #7fbfbf; text-decoration-color: #7fbfbf\">[10/18/23 12:24:53] </span><span style=\"color: #008000; text-decoration-color: #008000\">INFO    </span> Animation <span style=\"color: #008000; text-decoration-color: #008000\">6</span> : Partial movie file written in                   <a href=\"file:///Users/Brian/workspace/Research/CO2_Capture_GNN/.conda/lib/python3.10/site-packages/manim/scene/scene_file_writer.py\" target=\"_blank\"><span style=\"color: #7f7f7f; text-decoration-color: #7f7f7f\">scene_file_writer.py</span></a><span style=\"color: #7f7f7f; text-decoration-color: #7f7f7f\">:</span><a href=\"file:///Users/Brian/workspace/Research/CO2_Capture_GNN/.conda/lib/python3.10/site-packages/manim/scene/scene_file_writer.py#527\" target=\"_blank\"><span style=\"color: #7f7f7f; text-decoration-color: #7f7f7f\">527</span></a>\n",
       "<span style=\"color: #7fbfbf; text-decoration-color: #7fbfbf\">                    </span>         <span style=\"color: #008000; text-decoration-color: #008000\">'/Users/Brian/workspace/Research/CO2_Capture_GNN/doc-media/me</span> <span style=\"color: #7f7f7f; text-decoration-color: #7f7f7f\">                        </span>\n",
       "<span style=\"color: #7fbfbf; text-decoration-color: #7fbfbf\">                    </span>         <span style=\"color: #008000; text-decoration-color: #008000\">dia/media/videos/media/720p30/partial_movie_files/anim/uncach</span> <span style=\"color: #7f7f7f; text-decoration-color: #7f7f7f\">                        </span>\n",
       "<span style=\"color: #7fbfbf; text-decoration-color: #7fbfbf\">                    </span>         <span style=\"color: #008000; text-decoration-color: #008000\">ed_00006.mp4'</span>                                                 <span style=\"color: #7f7f7f; text-decoration-color: #7f7f7f\">                        </span>\n",
       "</pre>\n"
      ],
      "text/plain": [
       "\u001b[2;36m[10/18/23 12:24:53]\u001b[0m\u001b[2;36m \u001b[0m\u001b[32mINFO    \u001b[0m Animation \u001b[32m6\u001b[0m : Partial movie file written in                   \u001b]8;id=413326;file:///Users/Brian/workspace/Research/CO2_Capture_GNN/.conda/lib/python3.10/site-packages/manim/scene/scene_file_writer.py\u001b\\\u001b[2mscene_file_writer.py\u001b[0m\u001b]8;;\u001b\\\u001b[2m:\u001b[0m\u001b]8;id=298082;file:///Users/Brian/workspace/Research/CO2_Capture_GNN/.conda/lib/python3.10/site-packages/manim/scene/scene_file_writer.py#527\u001b\\\u001b[2m527\u001b[0m\u001b]8;;\u001b\\\n",
       "\u001b[2;36m                    \u001b[0m         \u001b[32m'/Users/Brian/workspace/Research/CO2_Capture_GNN/doc-media/me\u001b[0m \u001b[2m                        \u001b[0m\n",
       "\u001b[2;36m                    \u001b[0m         \u001b[32mdia/media/videos/media/720p30/partial_movie_files/anim/uncach\u001b[0m \u001b[2m                        \u001b[0m\n",
       "\u001b[2;36m                    \u001b[0m         \u001b[32med_00006.mp4'\u001b[0m                                                 \u001b[2m                        \u001b[0m\n"
      ]
     },
     "metadata": {},
     "output_type": "display_data"
    },
    {
     "data": {
      "text/html": [
       "<pre style=\"white-space:pre;overflow-x:auto;line-height:normal;font-family:Menlo,'DejaVu Sans Mono',consolas,'Courier New',monospace\"><span style=\"color: #7fbfbf; text-decoration-color: #7fbfbf\">                    </span><span style=\"color: #008000; text-decoration-color: #008000\">INFO    </span> Caching disabled.                                                 <a href=\"file:///Users/Brian/workspace/Research/CO2_Capture_GNN/.conda/lib/python3.10/site-packages/manim/renderer/cairo_renderer.py\" target=\"_blank\"><span style=\"color: #7f7f7f; text-decoration-color: #7f7f7f\">cairo_renderer.py</span></a><span style=\"color: #7f7f7f; text-decoration-color: #7f7f7f\">:</span><a href=\"file:///Users/Brian/workspace/Research/CO2_Capture_GNN/.conda/lib/python3.10/site-packages/manim/renderer/cairo_renderer.py#68\" target=\"_blank\"><span style=\"color: #7f7f7f; text-decoration-color: #7f7f7f\">68</span></a>\n",
       "</pre>\n"
      ],
      "text/plain": [
       "\u001b[2;36m                   \u001b[0m\u001b[2;36m \u001b[0m\u001b[32mINFO    \u001b[0m Caching disabled.                                                 \u001b]8;id=675609;file:///Users/Brian/workspace/Research/CO2_Capture_GNN/.conda/lib/python3.10/site-packages/manim/renderer/cairo_renderer.py\u001b\\\u001b[2mcairo_renderer.py\u001b[0m\u001b]8;;\u001b\\\u001b[2m:\u001b[0m\u001b]8;id=437482;file:///Users/Brian/workspace/Research/CO2_Capture_GNN/.conda/lib/python3.10/site-packages/manim/renderer/cairo_renderer.py#68\u001b\\\u001b[2m68\u001b[0m\u001b]8;;\u001b\\\n"
      ]
     },
     "metadata": {},
     "output_type": "display_data"
    },
    {
     "name": "stderr",
     "output_type": "stream",
     "text": [
      "                                                                                                     \r"
     ]
    },
    {
     "data": {
      "text/html": [
       "<pre style=\"white-space:pre;overflow-x:auto;line-height:normal;font-family:Menlo,'DejaVu Sans Mono',consolas,'Courier New',monospace\"><span style=\"color: #7fbfbf; text-decoration-color: #7fbfbf\">                    </span><span style=\"color: #008000; text-decoration-color: #008000\">INFO    </span> Animation <span style=\"color: #008000; text-decoration-color: #008000\">7</span> : Partial movie file written in                   <a href=\"file:///Users/Brian/workspace/Research/CO2_Capture_GNN/.conda/lib/python3.10/site-packages/manim/scene/scene_file_writer.py\" target=\"_blank\"><span style=\"color: #7f7f7f; text-decoration-color: #7f7f7f\">scene_file_writer.py</span></a><span style=\"color: #7f7f7f; text-decoration-color: #7f7f7f\">:</span><a href=\"file:///Users/Brian/workspace/Research/CO2_Capture_GNN/.conda/lib/python3.10/site-packages/manim/scene/scene_file_writer.py#527\" target=\"_blank\"><span style=\"color: #7f7f7f; text-decoration-color: #7f7f7f\">527</span></a>\n",
       "<span style=\"color: #7fbfbf; text-decoration-color: #7fbfbf\">                    </span>         <span style=\"color: #008000; text-decoration-color: #008000\">'/Users/Brian/workspace/Research/CO2_Capture_GNN/doc-media/me</span> <span style=\"color: #7f7f7f; text-decoration-color: #7f7f7f\">                        </span>\n",
       "<span style=\"color: #7fbfbf; text-decoration-color: #7fbfbf\">                    </span>         <span style=\"color: #008000; text-decoration-color: #008000\">dia/media/videos/media/720p30/partial_movie_files/anim/uncach</span> <span style=\"color: #7f7f7f; text-decoration-color: #7f7f7f\">                        </span>\n",
       "<span style=\"color: #7fbfbf; text-decoration-color: #7fbfbf\">                    </span>         <span style=\"color: #008000; text-decoration-color: #008000\">ed_00007.mp4'</span>                                                 <span style=\"color: #7f7f7f; text-decoration-color: #7f7f7f\">                        </span>\n",
       "</pre>\n"
      ],
      "text/plain": [
       "\u001b[2;36m                   \u001b[0m\u001b[2;36m \u001b[0m\u001b[32mINFO    \u001b[0m Animation \u001b[32m7\u001b[0m : Partial movie file written in                   \u001b]8;id=344297;file:///Users/Brian/workspace/Research/CO2_Capture_GNN/.conda/lib/python3.10/site-packages/manim/scene/scene_file_writer.py\u001b\\\u001b[2mscene_file_writer.py\u001b[0m\u001b]8;;\u001b\\\u001b[2m:\u001b[0m\u001b]8;id=191332;file:///Users/Brian/workspace/Research/CO2_Capture_GNN/.conda/lib/python3.10/site-packages/manim/scene/scene_file_writer.py#527\u001b\\\u001b[2m527\u001b[0m\u001b]8;;\u001b\\\n",
       "\u001b[2;36m                    \u001b[0m         \u001b[32m'/Users/Brian/workspace/Research/CO2_Capture_GNN/doc-media/me\u001b[0m \u001b[2m                        \u001b[0m\n",
       "\u001b[2;36m                    \u001b[0m         \u001b[32mdia/media/videos/media/720p30/partial_movie_files/anim/uncach\u001b[0m \u001b[2m                        \u001b[0m\n",
       "\u001b[2;36m                    \u001b[0m         \u001b[32med_00007.mp4'\u001b[0m                                                 \u001b[2m                        \u001b[0m\n"
      ]
     },
     "metadata": {},
     "output_type": "display_data"
    },
    {
     "data": {
      "text/html": [
       "<pre style=\"white-space:pre;overflow-x:auto;line-height:normal;font-family:Menlo,'DejaVu Sans Mono',consolas,'Courier New',monospace\"><span style=\"color: #7fbfbf; text-decoration-color: #7fbfbf\">                    </span><span style=\"color: #008000; text-decoration-color: #008000\">INFO    </span> Caching disabled.                                                 <a href=\"file:///Users/Brian/workspace/Research/CO2_Capture_GNN/.conda/lib/python3.10/site-packages/manim/renderer/cairo_renderer.py\" target=\"_blank\"><span style=\"color: #7f7f7f; text-decoration-color: #7f7f7f\">cairo_renderer.py</span></a><span style=\"color: #7f7f7f; text-decoration-color: #7f7f7f\">:</span><a href=\"file:///Users/Brian/workspace/Research/CO2_Capture_GNN/.conda/lib/python3.10/site-packages/manim/renderer/cairo_renderer.py#68\" target=\"_blank\"><span style=\"color: #7f7f7f; text-decoration-color: #7f7f7f\">68</span></a>\n",
       "</pre>\n"
      ],
      "text/plain": [
       "\u001b[2;36m                   \u001b[0m\u001b[2;36m \u001b[0m\u001b[32mINFO    \u001b[0m Caching disabled.                                                 \u001b]8;id=360187;file:///Users/Brian/workspace/Research/CO2_Capture_GNN/.conda/lib/python3.10/site-packages/manim/renderer/cairo_renderer.py\u001b\\\u001b[2mcairo_renderer.py\u001b[0m\u001b]8;;\u001b\\\u001b[2m:\u001b[0m\u001b]8;id=335005;file:///Users/Brian/workspace/Research/CO2_Capture_GNN/.conda/lib/python3.10/site-packages/manim/renderer/cairo_renderer.py#68\u001b\\\u001b[2m68\u001b[0m\u001b]8;;\u001b\\\n"
      ]
     },
     "metadata": {},
     "output_type": "display_data"
    },
    {
     "name": "stderr",
     "output_type": "stream",
     "text": [
      "                                                                                            \r"
     ]
    },
    {
     "data": {
      "text/html": [
       "<pre style=\"white-space:pre;overflow-x:auto;line-height:normal;font-family:Menlo,'DejaVu Sans Mono',consolas,'Courier New',monospace\"><span style=\"color: #7fbfbf; text-decoration-color: #7fbfbf\">[10/18/23 12:24:54] </span><span style=\"color: #008000; text-decoration-color: #008000\">INFO    </span> Animation <span style=\"color: #008000; text-decoration-color: #008000\">8</span> : Partial movie file written in                   <a href=\"file:///Users/Brian/workspace/Research/CO2_Capture_GNN/.conda/lib/python3.10/site-packages/manim/scene/scene_file_writer.py\" target=\"_blank\"><span style=\"color: #7f7f7f; text-decoration-color: #7f7f7f\">scene_file_writer.py</span></a><span style=\"color: #7f7f7f; text-decoration-color: #7f7f7f\">:</span><a href=\"file:///Users/Brian/workspace/Research/CO2_Capture_GNN/.conda/lib/python3.10/site-packages/manim/scene/scene_file_writer.py#527\" target=\"_blank\"><span style=\"color: #7f7f7f; text-decoration-color: #7f7f7f\">527</span></a>\n",
       "<span style=\"color: #7fbfbf; text-decoration-color: #7fbfbf\">                    </span>         <span style=\"color: #008000; text-decoration-color: #008000\">'/Users/Brian/workspace/Research/CO2_Capture_GNN/doc-media/me</span> <span style=\"color: #7f7f7f; text-decoration-color: #7f7f7f\">                        </span>\n",
       "<span style=\"color: #7fbfbf; text-decoration-color: #7fbfbf\">                    </span>         <span style=\"color: #008000; text-decoration-color: #008000\">dia/media/videos/media/720p30/partial_movie_files/anim/uncach</span> <span style=\"color: #7f7f7f; text-decoration-color: #7f7f7f\">                        </span>\n",
       "<span style=\"color: #7fbfbf; text-decoration-color: #7fbfbf\">                    </span>         <span style=\"color: #008000; text-decoration-color: #008000\">ed_00008.mp4'</span>                                                 <span style=\"color: #7f7f7f; text-decoration-color: #7f7f7f\">                        </span>\n",
       "</pre>\n"
      ],
      "text/plain": [
       "\u001b[2;36m[10/18/23 12:24:54]\u001b[0m\u001b[2;36m \u001b[0m\u001b[32mINFO    \u001b[0m Animation \u001b[32m8\u001b[0m : Partial movie file written in                   \u001b]8;id=651038;file:///Users/Brian/workspace/Research/CO2_Capture_GNN/.conda/lib/python3.10/site-packages/manim/scene/scene_file_writer.py\u001b\\\u001b[2mscene_file_writer.py\u001b[0m\u001b]8;;\u001b\\\u001b[2m:\u001b[0m\u001b]8;id=648620;file:///Users/Brian/workspace/Research/CO2_Capture_GNN/.conda/lib/python3.10/site-packages/manim/scene/scene_file_writer.py#527\u001b\\\u001b[2m527\u001b[0m\u001b]8;;\u001b\\\n",
       "\u001b[2;36m                    \u001b[0m         \u001b[32m'/Users/Brian/workspace/Research/CO2_Capture_GNN/doc-media/me\u001b[0m \u001b[2m                        \u001b[0m\n",
       "\u001b[2;36m                    \u001b[0m         \u001b[32mdia/media/videos/media/720p30/partial_movie_files/anim/uncach\u001b[0m \u001b[2m                        \u001b[0m\n",
       "\u001b[2;36m                    \u001b[0m         \u001b[32med_00008.mp4'\u001b[0m                                                 \u001b[2m                        \u001b[0m\n"
      ]
     },
     "metadata": {},
     "output_type": "display_data"
    },
    {
     "data": {
      "text/html": [
       "<pre style=\"white-space:pre;overflow-x:auto;line-height:normal;font-family:Menlo,'DejaVu Sans Mono',consolas,'Courier New',monospace\"><span style=\"color: #7fbfbf; text-decoration-color: #7fbfbf\">                    </span><span style=\"color: #008000; text-decoration-color: #008000\">INFO    </span> Caching disabled.                                                 <a href=\"file:///Users/Brian/workspace/Research/CO2_Capture_GNN/.conda/lib/python3.10/site-packages/manim/renderer/cairo_renderer.py\" target=\"_blank\"><span style=\"color: #7f7f7f; text-decoration-color: #7f7f7f\">cairo_renderer.py</span></a><span style=\"color: #7f7f7f; text-decoration-color: #7f7f7f\">:</span><a href=\"file:///Users/Brian/workspace/Research/CO2_Capture_GNN/.conda/lib/python3.10/site-packages/manim/renderer/cairo_renderer.py#68\" target=\"_blank\"><span style=\"color: #7f7f7f; text-decoration-color: #7f7f7f\">68</span></a>\n",
       "</pre>\n"
      ],
      "text/plain": [
       "\u001b[2;36m                   \u001b[0m\u001b[2;36m \u001b[0m\u001b[32mINFO    \u001b[0m Caching disabled.                                                 \u001b]8;id=460780;file:///Users/Brian/workspace/Research/CO2_Capture_GNN/.conda/lib/python3.10/site-packages/manim/renderer/cairo_renderer.py\u001b\\\u001b[2mcairo_renderer.py\u001b[0m\u001b]8;;\u001b\\\u001b[2m:\u001b[0m\u001b]8;id=459023;file:///Users/Brian/workspace/Research/CO2_Capture_GNN/.conda/lib/python3.10/site-packages/manim/renderer/cairo_renderer.py#68\u001b\\\u001b[2m68\u001b[0m\u001b]8;;\u001b\\\n"
      ]
     },
     "metadata": {},
     "output_type": "display_data"
    },
    {
     "name": "stderr",
     "output_type": "stream",
     "text": [
      "                                                                                                 \r"
     ]
    },
    {
     "data": {
      "text/html": [
       "<pre style=\"white-space:pre;overflow-x:auto;line-height:normal;font-family:Menlo,'DejaVu Sans Mono',consolas,'Courier New',monospace\"><span style=\"color: #7fbfbf; text-decoration-color: #7fbfbf\">                    </span><span style=\"color: #008000; text-decoration-color: #008000\">INFO    </span> Animation <span style=\"color: #008000; text-decoration-color: #008000\">9</span> : Partial movie file written in                   <a href=\"file:///Users/Brian/workspace/Research/CO2_Capture_GNN/.conda/lib/python3.10/site-packages/manim/scene/scene_file_writer.py\" target=\"_blank\"><span style=\"color: #7f7f7f; text-decoration-color: #7f7f7f\">scene_file_writer.py</span></a><span style=\"color: #7f7f7f; text-decoration-color: #7f7f7f\">:</span><a href=\"file:///Users/Brian/workspace/Research/CO2_Capture_GNN/.conda/lib/python3.10/site-packages/manim/scene/scene_file_writer.py#527\" target=\"_blank\"><span style=\"color: #7f7f7f; text-decoration-color: #7f7f7f\">527</span></a>\n",
       "<span style=\"color: #7fbfbf; text-decoration-color: #7fbfbf\">                    </span>         <span style=\"color: #008000; text-decoration-color: #008000\">'/Users/Brian/workspace/Research/CO2_Capture_GNN/doc-media/me</span> <span style=\"color: #7f7f7f; text-decoration-color: #7f7f7f\">                        </span>\n",
       "<span style=\"color: #7fbfbf; text-decoration-color: #7fbfbf\">                    </span>         <span style=\"color: #008000; text-decoration-color: #008000\">dia/media/videos/media/720p30/partial_movie_files/anim/uncach</span> <span style=\"color: #7f7f7f; text-decoration-color: #7f7f7f\">                        </span>\n",
       "<span style=\"color: #7fbfbf; text-decoration-color: #7fbfbf\">                    </span>         <span style=\"color: #008000; text-decoration-color: #008000\">ed_00009.mp4'</span>                                                 <span style=\"color: #7f7f7f; text-decoration-color: #7f7f7f\">                        </span>\n",
       "</pre>\n"
      ],
      "text/plain": [
       "\u001b[2;36m                   \u001b[0m\u001b[2;36m \u001b[0m\u001b[32mINFO    \u001b[0m Animation \u001b[32m9\u001b[0m : Partial movie file written in                   \u001b]8;id=127246;file:///Users/Brian/workspace/Research/CO2_Capture_GNN/.conda/lib/python3.10/site-packages/manim/scene/scene_file_writer.py\u001b\\\u001b[2mscene_file_writer.py\u001b[0m\u001b]8;;\u001b\\\u001b[2m:\u001b[0m\u001b]8;id=896513;file:///Users/Brian/workspace/Research/CO2_Capture_GNN/.conda/lib/python3.10/site-packages/manim/scene/scene_file_writer.py#527\u001b\\\u001b[2m527\u001b[0m\u001b]8;;\u001b\\\n",
       "\u001b[2;36m                    \u001b[0m         \u001b[32m'/Users/Brian/workspace/Research/CO2_Capture_GNN/doc-media/me\u001b[0m \u001b[2m                        \u001b[0m\n",
       "\u001b[2;36m                    \u001b[0m         \u001b[32mdia/media/videos/media/720p30/partial_movie_files/anim/uncach\u001b[0m \u001b[2m                        \u001b[0m\n",
       "\u001b[2;36m                    \u001b[0m         \u001b[32med_00009.mp4'\u001b[0m                                                 \u001b[2m                        \u001b[0m\n"
      ]
     },
     "metadata": {},
     "output_type": "display_data"
    },
    {
     "data": {
      "text/html": [
       "<pre style=\"white-space:pre;overflow-x:auto;line-height:normal;font-family:Menlo,'DejaVu Sans Mono',consolas,'Courier New',monospace\"><span style=\"color: #7fbfbf; text-decoration-color: #7fbfbf\">                    </span><span style=\"color: #008000; text-decoration-color: #008000\">INFO    </span> Caching disabled.                                                 <a href=\"file:///Users/Brian/workspace/Research/CO2_Capture_GNN/.conda/lib/python3.10/site-packages/manim/renderer/cairo_renderer.py\" target=\"_blank\"><span style=\"color: #7f7f7f; text-decoration-color: #7f7f7f\">cairo_renderer.py</span></a><span style=\"color: #7f7f7f; text-decoration-color: #7f7f7f\">:</span><a href=\"file:///Users/Brian/workspace/Research/CO2_Capture_GNN/.conda/lib/python3.10/site-packages/manim/renderer/cairo_renderer.py#68\" target=\"_blank\"><span style=\"color: #7f7f7f; text-decoration-color: #7f7f7f\">68</span></a>\n",
       "</pre>\n"
      ],
      "text/plain": [
       "\u001b[2;36m                   \u001b[0m\u001b[2;36m \u001b[0m\u001b[32mINFO    \u001b[0m Caching disabled.                                                 \u001b]8;id=112036;file:///Users/Brian/workspace/Research/CO2_Capture_GNN/.conda/lib/python3.10/site-packages/manim/renderer/cairo_renderer.py\u001b\\\u001b[2mcairo_renderer.py\u001b[0m\u001b]8;;\u001b\\\u001b[2m:\u001b[0m\u001b]8;id=992143;file:///Users/Brian/workspace/Research/CO2_Capture_GNN/.conda/lib/python3.10/site-packages/manim/renderer/cairo_renderer.py#68\u001b\\\u001b[2m68\u001b[0m\u001b]8;;\u001b\\\n"
      ]
     },
     "metadata": {},
     "output_type": "display_data"
    },
    {
     "name": "stderr",
     "output_type": "stream",
     "text": [
      "                                                                                    \r"
     ]
    },
    {
     "data": {
      "text/html": [
       "<pre style=\"white-space:pre;overflow-x:auto;line-height:normal;font-family:Menlo,'DejaVu Sans Mono',consolas,'Courier New',monospace\"><span style=\"color: #7fbfbf; text-decoration-color: #7fbfbf\">[10/18/23 12:24:56] </span><span style=\"color: #008000; text-decoration-color: #008000\">INFO    </span> Animation <span style=\"color: #008000; text-decoration-color: #008000\">10</span> : Partial movie file written in                  <a href=\"file:///Users/Brian/workspace/Research/CO2_Capture_GNN/.conda/lib/python3.10/site-packages/manim/scene/scene_file_writer.py\" target=\"_blank\"><span style=\"color: #7f7f7f; text-decoration-color: #7f7f7f\">scene_file_writer.py</span></a><span style=\"color: #7f7f7f; text-decoration-color: #7f7f7f\">:</span><a href=\"file:///Users/Brian/workspace/Research/CO2_Capture_GNN/.conda/lib/python3.10/site-packages/manim/scene/scene_file_writer.py#527\" target=\"_blank\"><span style=\"color: #7f7f7f; text-decoration-color: #7f7f7f\">527</span></a>\n",
       "<span style=\"color: #7fbfbf; text-decoration-color: #7fbfbf\">                    </span>         <span style=\"color: #008000; text-decoration-color: #008000\">'/Users/Brian/workspace/Research/CO2_Capture_GNN/doc-media/me</span> <span style=\"color: #7f7f7f; text-decoration-color: #7f7f7f\">                        </span>\n",
       "<span style=\"color: #7fbfbf; text-decoration-color: #7fbfbf\">                    </span>         <span style=\"color: #008000; text-decoration-color: #008000\">dia/media/videos/media/720p30/partial_movie_files/anim/uncach</span> <span style=\"color: #7f7f7f; text-decoration-color: #7f7f7f\">                        </span>\n",
       "<span style=\"color: #7fbfbf; text-decoration-color: #7fbfbf\">                    </span>         <span style=\"color: #008000; text-decoration-color: #008000\">ed_00010.mp4'</span>                                                 <span style=\"color: #7f7f7f; text-decoration-color: #7f7f7f\">                        </span>\n",
       "</pre>\n"
      ],
      "text/plain": [
       "\u001b[2;36m[10/18/23 12:24:56]\u001b[0m\u001b[2;36m \u001b[0m\u001b[32mINFO    \u001b[0m Animation \u001b[32m10\u001b[0m : Partial movie file written in                  \u001b]8;id=832012;file:///Users/Brian/workspace/Research/CO2_Capture_GNN/.conda/lib/python3.10/site-packages/manim/scene/scene_file_writer.py\u001b\\\u001b[2mscene_file_writer.py\u001b[0m\u001b]8;;\u001b\\\u001b[2m:\u001b[0m\u001b]8;id=753677;file:///Users/Brian/workspace/Research/CO2_Capture_GNN/.conda/lib/python3.10/site-packages/manim/scene/scene_file_writer.py#527\u001b\\\u001b[2m527\u001b[0m\u001b]8;;\u001b\\\n",
       "\u001b[2;36m                    \u001b[0m         \u001b[32m'/Users/Brian/workspace/Research/CO2_Capture_GNN/doc-media/me\u001b[0m \u001b[2m                        \u001b[0m\n",
       "\u001b[2;36m                    \u001b[0m         \u001b[32mdia/media/videos/media/720p30/partial_movie_files/anim/uncach\u001b[0m \u001b[2m                        \u001b[0m\n",
       "\u001b[2;36m                    \u001b[0m         \u001b[32med_00010.mp4'\u001b[0m                                                 \u001b[2m                        \u001b[0m\n"
      ]
     },
     "metadata": {},
     "output_type": "display_data"
    },
    {
     "data": {
      "text/html": [
       "<pre style=\"white-space:pre;overflow-x:auto;line-height:normal;font-family:Menlo,'DejaVu Sans Mono',consolas,'Courier New',monospace\"><span style=\"color: #7fbfbf; text-decoration-color: #7fbfbf\">                    </span><span style=\"color: #008000; text-decoration-color: #008000\">INFO    </span> Caching disabled.                                                 <a href=\"file:///Users/Brian/workspace/Research/CO2_Capture_GNN/.conda/lib/python3.10/site-packages/manim/renderer/cairo_renderer.py\" target=\"_blank\"><span style=\"color: #7f7f7f; text-decoration-color: #7f7f7f\">cairo_renderer.py</span></a><span style=\"color: #7f7f7f; text-decoration-color: #7f7f7f\">:</span><a href=\"file:///Users/Brian/workspace/Research/CO2_Capture_GNN/.conda/lib/python3.10/site-packages/manim/renderer/cairo_renderer.py#68\" target=\"_blank\"><span style=\"color: #7f7f7f; text-decoration-color: #7f7f7f\">68</span></a>\n",
       "</pre>\n"
      ],
      "text/plain": [
       "\u001b[2;36m                   \u001b[0m\u001b[2;36m \u001b[0m\u001b[32mINFO    \u001b[0m Caching disabled.                                                 \u001b]8;id=492178;file:///Users/Brian/workspace/Research/CO2_Capture_GNN/.conda/lib/python3.10/site-packages/manim/renderer/cairo_renderer.py\u001b\\\u001b[2mcairo_renderer.py\u001b[0m\u001b]8;;\u001b\\\u001b[2m:\u001b[0m\u001b]8;id=712792;file:///Users/Brian/workspace/Research/CO2_Capture_GNN/.conda/lib/python3.10/site-packages/manim/renderer/cairo_renderer.py#68\u001b\\\u001b[2m68\u001b[0m\u001b]8;;\u001b\\\n"
      ]
     },
     "metadata": {},
     "output_type": "display_data"
    },
    {
     "data": {
      "text/html": [
       "<pre style=\"white-space:pre;overflow-x:auto;line-height:normal;font-family:Menlo,'DejaVu Sans Mono',consolas,'Courier New',monospace\"><span style=\"color: #7fbfbf; text-decoration-color: #7fbfbf\">                    </span><span style=\"color: #008000; text-decoration-color: #008000\">INFO    </span> Animation <span style=\"color: #008000; text-decoration-color: #008000\">11</span> : Partial movie file written in                  <a href=\"file:///Users/Brian/workspace/Research/CO2_Capture_GNN/.conda/lib/python3.10/site-packages/manim/scene/scene_file_writer.py\" target=\"_blank\"><span style=\"color: #7f7f7f; text-decoration-color: #7f7f7f\">scene_file_writer.py</span></a><span style=\"color: #7f7f7f; text-decoration-color: #7f7f7f\">:</span><a href=\"file:///Users/Brian/workspace/Research/CO2_Capture_GNN/.conda/lib/python3.10/site-packages/manim/scene/scene_file_writer.py#527\" target=\"_blank\"><span style=\"color: #7f7f7f; text-decoration-color: #7f7f7f\">527</span></a>\n",
       "<span style=\"color: #7fbfbf; text-decoration-color: #7fbfbf\">                    </span>         <span style=\"color: #008000; text-decoration-color: #008000\">'/Users/Brian/workspace/Research/CO2_Capture_GNN/doc-media/me</span> <span style=\"color: #7f7f7f; text-decoration-color: #7f7f7f\">                        </span>\n",
       "<span style=\"color: #7fbfbf; text-decoration-color: #7fbfbf\">                    </span>         <span style=\"color: #008000; text-decoration-color: #008000\">dia/media/videos/media/720p30/partial_movie_files/anim/uncach</span> <span style=\"color: #7f7f7f; text-decoration-color: #7f7f7f\">                        </span>\n",
       "<span style=\"color: #7fbfbf; text-decoration-color: #7fbfbf\">                    </span>         <span style=\"color: #008000; text-decoration-color: #008000\">ed_00011.mp4'</span>                                                 <span style=\"color: #7f7f7f; text-decoration-color: #7f7f7f\">                        </span>\n",
       "</pre>\n"
      ],
      "text/plain": [
       "\u001b[2;36m                   \u001b[0m\u001b[2;36m \u001b[0m\u001b[32mINFO    \u001b[0m Animation \u001b[32m11\u001b[0m : Partial movie file written in                  \u001b]8;id=133889;file:///Users/Brian/workspace/Research/CO2_Capture_GNN/.conda/lib/python3.10/site-packages/manim/scene/scene_file_writer.py\u001b\\\u001b[2mscene_file_writer.py\u001b[0m\u001b]8;;\u001b\\\u001b[2m:\u001b[0m\u001b]8;id=494783;file:///Users/Brian/workspace/Research/CO2_Capture_GNN/.conda/lib/python3.10/site-packages/manim/scene/scene_file_writer.py#527\u001b\\\u001b[2m527\u001b[0m\u001b]8;;\u001b\\\n",
       "\u001b[2;36m                    \u001b[0m         \u001b[32m'/Users/Brian/workspace/Research/CO2_Capture_GNN/doc-media/me\u001b[0m \u001b[2m                        \u001b[0m\n",
       "\u001b[2;36m                    \u001b[0m         \u001b[32mdia/media/videos/media/720p30/partial_movie_files/anim/uncach\u001b[0m \u001b[2m                        \u001b[0m\n",
       "\u001b[2;36m                    \u001b[0m         \u001b[32med_00011.mp4'\u001b[0m                                                 \u001b[2m                        \u001b[0m\n"
      ]
     },
     "metadata": {},
     "output_type": "display_data"
    },
    {
     "data": {
      "text/html": [
       "<pre style=\"white-space:pre;overflow-x:auto;line-height:normal;font-family:Menlo,'DejaVu Sans Mono',consolas,'Courier New',monospace\"><span style=\"color: #7fbfbf; text-decoration-color: #7fbfbf\">                    </span><span style=\"color: #008000; text-decoration-color: #008000\">INFO    </span> Combining to Movie file.                                      <a href=\"file:///Users/Brian/workspace/Research/CO2_Capture_GNN/.conda/lib/python3.10/site-packages/manim/scene/scene_file_writer.py\" target=\"_blank\"><span style=\"color: #7f7f7f; text-decoration-color: #7f7f7f\">scene_file_writer.py</span></a><span style=\"color: #7f7f7f; text-decoration-color: #7f7f7f\">:</span><a href=\"file:///Users/Brian/workspace/Research/CO2_Capture_GNN/.conda/lib/python3.10/site-packages/manim/scene/scene_file_writer.py#617\" target=\"_blank\"><span style=\"color: #7f7f7f; text-decoration-color: #7f7f7f\">617</span></a>\n",
       "</pre>\n"
      ],
      "text/plain": [
       "\u001b[2;36m                   \u001b[0m\u001b[2;36m \u001b[0m\u001b[32mINFO    \u001b[0m Combining to Movie file.                                      \u001b]8;id=888112;file:///Users/Brian/workspace/Research/CO2_Capture_GNN/.conda/lib/python3.10/site-packages/manim/scene/scene_file_writer.py\u001b\\\u001b[2mscene_file_writer.py\u001b[0m\u001b]8;;\u001b\\\u001b[2m:\u001b[0m\u001b]8;id=666034;file:///Users/Brian/workspace/Research/CO2_Capture_GNN/.conda/lib/python3.10/site-packages/manim/scene/scene_file_writer.py#617\u001b\\\u001b[2m617\u001b[0m\u001b]8;;\u001b\\\n"
      ]
     },
     "metadata": {},
     "output_type": "display_data"
    },
    {
     "data": {
      "text/html": [
       "<pre style=\"white-space:pre;overflow-x:auto;line-height:normal;font-family:Menlo,'DejaVu Sans Mono',consolas,'Courier New',monospace\"><span style=\"color: #7fbfbf; text-decoration-color: #7fbfbf\">                    </span><span style=\"color: #008000; text-decoration-color: #008000\">INFO    </span>                                                               <a href=\"file:///Users/Brian/workspace/Research/CO2_Capture_GNN/.conda/lib/python3.10/site-packages/manim/scene/scene_file_writer.py\" target=\"_blank\"><span style=\"color: #7f7f7f; text-decoration-color: #7f7f7f\">scene_file_writer.py</span></a><span style=\"color: #7f7f7f; text-decoration-color: #7f7f7f\">:</span><a href=\"file:///Users/Brian/workspace/Research/CO2_Capture_GNN/.conda/lib/python3.10/site-packages/manim/scene/scene_file_writer.py#736\" target=\"_blank\"><span style=\"color: #7f7f7f; text-decoration-color: #7f7f7f\">736</span></a>\n",
       "<span style=\"color: #7fbfbf; text-decoration-color: #7fbfbf\">                    </span>         <span style=\"color: #808000; text-decoration-color: #808000; font-weight: bold\">File</span> ready at                                                 <span style=\"color: #7f7f7f; text-decoration-color: #7f7f7f\">                        </span>\n",
       "<span style=\"color: #7fbfbf; text-decoration-color: #7fbfbf\">                    </span>         <span style=\"color: #008000; text-decoration-color: #008000\">'/Users/Brian/workspace/Research/CO2_Capture_GNN/doc-media/me</span> <span style=\"color: #7f7f7f; text-decoration-color: #7f7f7f\">                        </span>\n",
       "<span style=\"color: #7fbfbf; text-decoration-color: #7fbfbf\">                    </span>         <span style=\"color: #008000; text-decoration-color: #008000\">dia/media/videos/media/720p30/anim.mp4'</span>                       <span style=\"color: #7f7f7f; text-decoration-color: #7f7f7f\">                        </span>\n",
       "<span style=\"color: #7fbfbf; text-decoration-color: #7fbfbf\">                    </span>                                                                       <span style=\"color: #7f7f7f; text-decoration-color: #7f7f7f\">                        </span>\n",
       "</pre>\n"
      ],
      "text/plain": [
       "\u001b[2;36m                   \u001b[0m\u001b[2;36m \u001b[0m\u001b[32mINFO    \u001b[0m                                                               \u001b]8;id=902190;file:///Users/Brian/workspace/Research/CO2_Capture_GNN/.conda/lib/python3.10/site-packages/manim/scene/scene_file_writer.py\u001b\\\u001b[2mscene_file_writer.py\u001b[0m\u001b]8;;\u001b\\\u001b[2m:\u001b[0m\u001b]8;id=841172;file:///Users/Brian/workspace/Research/CO2_Capture_GNN/.conda/lib/python3.10/site-packages/manim/scene/scene_file_writer.py#736\u001b\\\u001b[2m736\u001b[0m\u001b]8;;\u001b\\\n",
       "\u001b[2;36m                    \u001b[0m         \u001b[1;33mFile\u001b[0m ready at                                                 \u001b[2m                        \u001b[0m\n",
       "\u001b[2;36m                    \u001b[0m         \u001b[32m'/Users/Brian/workspace/Research/CO2_Capture_GNN/doc-media/me\u001b[0m \u001b[2m                        \u001b[0m\n",
       "\u001b[2;36m                    \u001b[0m         \u001b[32mdia/media/videos/media/720p30/anim.mp4'\u001b[0m                       \u001b[2m                        \u001b[0m\n",
       "\u001b[2;36m                    \u001b[0m                                                                       \u001b[2m                        \u001b[0m\n"
      ]
     },
     "metadata": {},
     "output_type": "display_data"
    },
    {
     "data": {
      "text/html": [
       "<pre style=\"white-space:pre;overflow-x:auto;line-height:normal;font-family:Menlo,'DejaVu Sans Mono',consolas,'Courier New',monospace\"><span style=\"color: #7fbfbf; text-decoration-color: #7fbfbf\">                    </span><span style=\"color: #008000; text-decoration-color: #008000\">INFO    </span> <span style=\"color: #808000; text-decoration-color: #808000; font-weight: bold\">Rendered</span> anim                                                             <a href=\"file:///Users/Brian/workspace/Research/CO2_Capture_GNN/.conda/lib/python3.10/site-packages/manim/scene/scene.py\" target=\"_blank\"><span style=\"color: #7f7f7f; text-decoration-color: #7f7f7f\">scene.py</span></a><span style=\"color: #7f7f7f; text-decoration-color: #7f7f7f\">:</span><a href=\"file:///Users/Brian/workspace/Research/CO2_Capture_GNN/.conda/lib/python3.10/site-packages/manim/scene/scene.py#241\" target=\"_blank\"><span style=\"color: #7f7f7f; text-decoration-color: #7f7f7f\">241</span></a>\n",
       "<span style=\"color: #7fbfbf; text-decoration-color: #7fbfbf\">                    </span>         <span style=\"color: #808000; text-decoration-color: #808000; font-weight: bold\">Played</span> <span style=\"color: #008000; text-decoration-color: #008000\">12</span> <span style=\"color: #808000; text-decoration-color: #808000; font-weight: bold\">animations</span>                                                      <span style=\"color: #7f7f7f; text-decoration-color: #7f7f7f\">            </span>\n",
       "</pre>\n"
      ],
      "text/plain": [
       "\u001b[2;36m                   \u001b[0m\u001b[2;36m \u001b[0m\u001b[32mINFO    \u001b[0m \u001b[1;33mRendered\u001b[0m anim                                                             \u001b]8;id=637612;file:///Users/Brian/workspace/Research/CO2_Capture_GNN/.conda/lib/python3.10/site-packages/manim/scene/scene.py\u001b\\\u001b[2mscene.py\u001b[0m\u001b]8;;\u001b\\\u001b[2m:\u001b[0m\u001b]8;id=526157;file:///Users/Brian/workspace/Research/CO2_Capture_GNN/.conda/lib/python3.10/site-packages/manim/scene/scene.py#241\u001b\\\u001b[2m241\u001b[0m\u001b]8;;\u001b\\\n",
       "\u001b[2;36m                    \u001b[0m         \u001b[1;33mPlayed\u001b[0m \u001b[32m12\u001b[0m \u001b[1;33manimations\u001b[0m                                                      \u001b[2m            \u001b[0m\n"
      ]
     },
     "metadata": {},
     "output_type": "display_data"
    },
    {
     "data": {
      "text/html": [
       "<video src=\"media/jupyter/anim@2023-10-18@12-24-56.mp4\" controls autoplay loop style=\"max-width: 60%;\"  >\n",
       "      Your browser does not support the <code>video</code> element.\n",
       "    </video>"
      ],
      "text/plain": [
       "<IPython.core.display.Video object>"
      ]
     },
     "metadata": {},
     "output_type": "display_data"
    }
   ],
   "source": [
    "%%manim -qm anim\n",
    "\n",
    "\n",
    "class anim(MovingCameraScene):\n",
    "    def construct(self):\n",
    "        r = 0.25\n",
    "        circle1 = Circle(r, color=RED, fill_opacity=1).move_to([-1,0,0])\n",
    "        circle2 = Circle(r, color=RED, fill_opacity=1).move_to([1,0,0])\n",
    "        circle3 = Circle(r,color=GREY, fill_opacity=1).move_to([0,0,0])\n",
    "        \n",
    "        def func(t):\n",
    "            if t>10:\n",
    "                return 1/5\n",
    "            elif t>5:\n",
    "                return (t-10)/(5-10) + 1/5*(t-5)/(10-5)\n",
    "            else:\n",
    "                return 1\n",
    "        \n",
    "        t = ValueTracker(0)\n",
    "        CO2 = VGroup(Line([1,r/3,0],[-1,r/3,0],color=WHITE),Line([1,-r/3,0],[-1,-r/3,0],color=WHITE),circle1,circle2,circle3)\n",
    "        CO2_ = CO2.copy()\n",
    "        CO2.add_updater(lambda x: x.become(CO2_)\\\n",
    "                        .move_to([np.sin(2*t.get_value())*func(t.get_value()), np.sin(1.4*t.get_value())*func(t.get_value()),0]).rotate(np.sin(t.get_value()))\\\n",
    "                       .scale(func(t.get_value())))\n",
    "        self.add(CO2)\n",
    "        \n",
    "#         self.play(CO2.animate.scale(1/5), run_time=2)\n",
    "        \n",
    "\n",
    "        e = 0.85\n",
    "        \n",
    "        hexa1 = RegularPolygon(6, color=GRAY)\n",
    "        hexa2 = RegularPolygon(6, color=GRAY).move_to([0,np.sqrt(3),0])\n",
    "        \n",
    "        mof = VGroup(hexa1, hexa2, Line([-1/2*e,np.sqrt(3)/2*e,0],[1/2*e,np.sqrt(3)/2*e,0], color=GRAY),\\\n",
    "                    Line([-1*e, np.sqrt(3),0],[-1/2*e, np.sqrt(3)*(1+1/2*e),0], color=GRAY),\\\n",
    "                    Line([1*e, np.sqrt(3),0],[1/2*e, np.sqrt(3)*(1+1/2*e),0], color=GRAY),\\\n",
    "                    Line([-1/2, 3*np.sqrt(3)/2,0],[0,1/2+3*np.sqrt(3)/2,0], color=GRAY),\\\n",
    "                    Line([1/2, 3*np.sqrt(3)/2,0],[0,1/2+3*np.sqrt(3)/2,0], color=GRAY),\\\n",
    "                    Circle(r*0.75,color=RED, fill_opacity=1).move_to([0,1/2+3/2*np.sqrt(3),0]))\n",
    "\n",
    "        mof1 = mof.copy().rotate(2*np.pi/3, about_point =[0,0,0])\n",
    "        mof2 = mof.copy().rotate(-2*np.pi/3, about_point =[0,0,0])\n",
    "        MOF = VGroup(mof,mof1,mof2)\n",
    "        \n",
    "        L = 3*np.sqrt(3)/2+1/2\n",
    "        full = VGroup(MOF, \\\n",
    "                     MOF.copy().rotate(np.pi, about_point=[0,0,0]).shift([-np.sqrt(3)*L, -L, 0]),\\\n",
    "                     MOF.copy().rotate(np.pi, about_point=[0,0,0]).shift([np.sqrt(3)*L, -L, 0]),\\\n",
    "                     MOF.copy().shift([-np.sqrt(3)*L, -3*L, 0]))\n",
    "        full = VGroup(*[MOF.copy().rotate(np.pi/3*i, about_point=[0,-2*L,0]) for i in range(6)])\n",
    "        \n",
    "        \n",
    "        crystal = (VGroup(full, full.copy().shift([6*L*np.cos(5*np.pi/6),6*L*np.sin(5*np.pi/6),0])\\\n",
    "                       ,full.copy().shift([0,6*L,0])\\\n",
    "                       ,full.copy().shift([6*L*np.cos(np.pi/6),6*L*np.sin(np.pi/6),0])\\\n",
    "                       ,full.copy().shift([-6*L*np.cos(5*np.pi/6),-6*L*np.sin(5*np.pi/6),0])).scale(1/4).shift([8,8,0]))\n",
    "        \n",
    "        self.add(crystal)\n",
    "        def ratefunc(t):\n",
    "            return np.tanh(3*t)\n",
    "        \n",
    "        self.play(t.animate.set_value(12), run_time=4, rate_func=linear)\n",
    "        self.play(crystal.animate.move_to([0.8,0.81,0]) ,t.animate.set_value(21), run_time=3, rate_func=linear)\n",
    "        self.play(Flash(CO2, color=BLUE, line_length=0.25))\n",
    "        self.wait(0.1)\n",
    "\n",
    "\n",
    "        def apply_function(mob):\n",
    "            mob.scale(4)\n",
    "            mob.shift(DOWN*2.4, LEFT)\n",
    "            return mob\n",
    "\n",
    "        self.play(FadeOut(CO2))\n",
    "        self.play(ApplyFunction(apply_function,crystal))\n",
    "        \n",
    "        \n",
    "        hex_atoms = VGroup(*[Circle(0.5*r, color=BLUE, fill_opacity=1).move_to([np.cos(np.pi/3*i),np.sin(np.pi/3*i),0]) for i in range(6)])\n",
    "        atoms = VGroup(hex_atoms.move_to([-0.2,np.sqrt(3),0]),\\\n",
    "                       hex_atoms.copy().move_to([np.sqrt(3)*np.cos(np.pi/6)-0.2,-np.sqrt(3)*np.sin(np.pi/6),0]),\\\n",
    "                       hex_atoms.copy().move_to([-np.sqrt(3)*np.cos(np.pi/6)-0.2,-np.sqrt(3)*np.sin(np.pi/6),0]))\n",
    "        \n",
    "        self.add(MOF.move_to([-0.2,np.sqrt(3)/2*e,0]))\n",
    "        self.play(FadeOut(crystal))\n",
    "        self.play(FadeOut(MOF),FadeIn(atoms))\n",
    "        \n",
    "\n",
    "        \n",
    "        \n",
    "        circles = VGroup(*[VGroup(*[Circle(0.5*r, color=GREEN, fill_opacity=0.3)\\\n",
    "                           .move_to([np.cos(np.pi/3*i),np.sin(np.pi/3*i),0]) for i in range(6)])\\\n",
    "                           .move_to([-0.2+np.sqrt(3)*np.sin(2*np.pi/3*j),np.sqrt(3)*np.cos(2*np.pi/3*j),0]) for j in range(3)])\n",
    "        circles_end = VGroup(*[VGroup(*[Circle(0.5, color=GREEN, fill_opacity=0.3)\\\n",
    "                           .move_to([np.cos(np.pi/3*i),np.sin(np.pi/3*i),0]) for i in range(6)])\\\n",
    "                           .move_to([-0.2+np.sqrt(3)*np.sin(2*np.pi/3*j),np.sqrt(3)*np.cos(2*np.pi/3*j),0]) for j in range(3)])\n",
    "\n",
    "        \n",
    "        self.play(FadeIn(circles))\n",
    "        \n",
    "        self.play(Transform(circles,circles_end))\n",
    "        self.play(AnimationGroup(*[AnimationGroup(\\\n",
    "                *[Flash(line_length=0.1, color=BLUE, point=[np.cos(np.pi/3*i+np.pi/6)-0.2+np.sqrt(3)*np.sin(2*np.pi/3*j),np.sin(np.pi/3*i+np.pi/6)+np.sqrt(3)*np.cos(2*np.pi/3*j),0]) for i in range(6)], lag_ratio=0.1)\\\n",
    "                   for j in range(3)], lag_ratio=0.4))\n",
    "        \n",
    "#         def become_circle(t):\n",
    "#             return VGroup(*[Circle(0.5*r+0.25*t, color=GREEN, fill_opacity=0.3)\\\n",
    "#                            .move_to([np.cos(np.pi/3*i),np.sin(np.pi/3*i),0]) for i in range(6)])\n",
    "#         circles.add_updater(lambda x: x.become(become_circle(t2.get_value())))\n",
    "#         self.play(t2.animate.set_value(1))\n",
    "        self.wait(1)"
   ]
  },
  {
   "cell_type": "code",
   "execution_count": null,
   "id": "4d8def7e",
   "metadata": {},
   "outputs": [],
   "source": []
  },
  {
   "cell_type": "code",
   "execution_count": null,
   "id": "4df7d54f",
   "metadata": {},
   "outputs": [],
   "source": []
  }
 ],
 "metadata": {
  "kernelspec": {
   "display_name": "Python 3",
   "language": "python",
   "name": "python3"
  },
  "language_info": {
   "codemirror_mode": {
    "name": "ipython",
    "version": 3
   },
   "file_extension": ".py",
   "mimetype": "text/x-python",
   "name": "python",
   "nbconvert_exporter": "python",
   "pygments_lexer": "ipython3",
   "version": "3.10.12"
  }
 },
 "nbformat": 4,
 "nbformat_minor": 5
}
