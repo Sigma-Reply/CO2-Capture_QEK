{
 "cells": [
  {
   "cell_type": "code",
   "execution_count": 24,
   "metadata": {},
   "outputs": [],
   "source": [
    "import os\n",
    "import numpy as np\n",
    "import pandas as pd\n"
   ]
  },
  {
   "cell_type": "code",
   "execution_count": 25,
   "metadata": {},
   "outputs": [
    {
     "name": "stdout",
     "output_type": "stream",
     "text": [
      "100   elements\n",
      "200   elements\n",
      "300   elements\n",
      "400   elements\n",
      "500   elements\n",
      "600   elements\n",
      "700   elements\n",
      "800   elements\n",
      "900   elements\n",
      "1000   elements\n",
      "1100   elements\n",
      "1200   elements\n",
      "1300   elements\n",
      "1400   elements\n",
      "1500   elements\n",
      "1600   elements\n",
      "1700   elements\n",
      "1800   elements\n",
      "1900   elements\n",
      "2000   elements\n",
      "2100   elements\n",
      "2200   elements\n",
      "2300   elements\n",
      "2400   elements\n",
      "2500   elements\n",
      "2600   elements\n",
      "2700   elements\n",
      "2800   elements\n",
      "2900   elements\n",
      "3000   elements\n",
      "3100   elements\n",
      "3200   elements\n",
      "3300   elements\n",
      "3400   elements\n",
      "3500   elements\n",
      "3600   elements\n",
      "3700   elements\n",
      "3800   elements\n",
      "3900   elements\n",
      "4000   elements\n",
      "4100   elements\n",
      "4200   elements\n",
      "4300   elements\n",
      "4400   elements\n",
      "4500   elements\n",
      "4600   elements\n",
      "4700   elements\n",
      "4800   elements\n",
      "4900   elements\n",
      "5000   elements\n",
      "5100   elements\n",
      "5200   elements\n",
      "5300   elements\n",
      "5400   elements\n",
      "5500   elements\n",
      "5600   elements\n",
      "5700   elements\n",
      "5800   elements\n",
      "5900   elements\n",
      "6000   elements\n",
      "6100   elements\n",
      "6200   elements\n",
      "6300   elements\n",
      "6400   elements\n",
      "6500   elements\n",
      "6600   elements\n",
      "6700   elements\n",
      "6800   elements\n",
      "6900   elements\n",
      "7000   elements\n",
      "7100   elements\n",
      "7200   elements\n",
      "7300   elements\n",
      "7400   elements\n",
      "7500   elements\n",
      "7600   elements\n",
      "7700   elements\n",
      "7800   elements\n",
      "7900   elements\n",
      "8000   elements\n",
      "8100   elements\n",
      "8200   elements\n",
      "8300   elements\n",
      "8400   elements\n",
      "8500   elements\n",
      "8600   elements\n",
      "8700   elements\n",
      "8800   elements\n",
      "8900   elements\n",
      "9000   elements\n",
      "9100   elements\n",
      "9200   elements\n",
      "9300   elements\n",
      "9400   elements\n",
      "9500   elements\n",
      "9600   elements\n",
      "9700   elements\n",
      "9800   elements\n",
      "9900   elements\n",
      "10000   elements\n",
      "10100   elements\n",
      "10200   elements\n",
      "10300   elements\n",
      "10400   elements\n",
      "10500   elements\n",
      "10600   elements\n",
      "10700   elements\n",
      "10800   elements\n",
      "10900   elements\n",
      "11000   elements\n",
      "11100   elements\n",
      "11200   elements\n",
      "11300   elements\n",
      "11400   elements\n",
      "11500   elements\n",
      "11600   elements\n",
      "11700   elements\n",
      "11800   elements\n",
      "11900   elements\n",
      "12000   elements\n",
      "12100   elements\n",
      "12200   elements\n",
      "12300   elements\n",
      "12400   elements\n",
      "12500   elements\n",
      "12600   elements\n",
      "12700   elements\n",
      "12800   elements\n",
      "12900   elements\n"
     ]
    }
   ],
   "source": [
    "dirname1 = \"dataset/CoREMOF2019-mofdb-version-dc8a0295db/\"\n",
    "dirname2 = \"dataset/Anion-pillared_MOFdataset/Database/\"\n",
    "\n",
    "\n",
    "nb_atoms = np.zeros(len(os.listdir(dirname1))+ len(os.listdir(dirname2)))\n",
    "nb_atoms_noH = np.zeros(len(os.listdir(dirname1))+ len(os.listdir(dirname2)))\n",
    "i=0\n",
    "\n",
    "for files in os.listdir(dirname1):\n",
    "    if not files.endswith(\"cif\"):\n",
    "        continue\n",
    "    with open(dirname1+files, \"r\") as f:\n",
    "        \n",
    "        num_lines = sum(1 for _ in f)\n",
    "        nb_atoms[i] = num_lines - 25\n",
    "        #if(num_lines-25 < 20):\n",
    "        #    print(files, num_lines-25)\n",
    "                    \n",
    "        f.seek(0)\n",
    "        num_lines2 = sum(1 for l in f if \"H\" not in l)\n",
    "        nb_atoms_noH[i] = num_lines2 - 24\n",
    "        #if(num_lines2-24 < 20):\n",
    "        #    print(files, num_lines2-24)\n",
    "        i+=1\n",
    "        if(i%100==0):\n",
    "            print(i, \"  elements\")\n",
    "\n",
    "for files in os.listdir(dirname2):\n",
    "    if not files.endswith(\"cif\"):\n",
    "        continue\n",
    "    with open(dirname2+files, \"r\") as f:\n",
    "        num_lines = sum(1 for _ in f)\n",
    "        nb_atoms[i] = num_lines - 30\n",
    "\n",
    "        f.seek(0)\n",
    "        num_lines = sum(1 for l in f if \"H\" not in l)\n",
    "        nb_atoms_noH[i] = num_lines - 29\n",
    "        \n",
    "        i+=1\n",
    "        if(i%100==0):\n",
    "            print(i, \"  elements\")\n"
   ]
  },
  {
   "cell_type": "code",
   "execution_count": 26,
   "metadata": {},
   "outputs": [
    {
     "name": "stdout",
     "output_type": "stream",
     "text": [
      "[ 78. 293. 611. ...   0.   0.   0.]\n",
      "[ 58. 202. 503. ...   0.   0.   0.]\n"
     ]
    }
   ],
   "source": [
    "print(nb_atoms)\n",
    "print(nb_atoms_noH)"
   ]
  },
  {
   "cell_type": "code",
   "execution_count": 27,
   "metadata": {},
   "outputs": [
    {
     "data": {
      "image/png": "[encoded data removed]",
      "text/plain": [
       "<Figure size 640x480 with 1 Axes>"
      ]
     },
     "metadata": {},
     "output_type": "display_data"
    }
   ],
   "source": [
    "import matplotlib.pyplot as plt\n",
    "bins=[1,10,20,30,40,50,60]\n",
    "\n",
    "plt.hist(nb_atoms_noH, bins= bins, alpha = 0.6, label = 'no H')\n",
    "\n",
    "plt.hist(nb_atoms,bins = bins, alpha = 0.6,label = 'all') \n",
    "#plt.yscale('log')\n",
    "plt.title(\"all dataset\")\n",
    "plt.legend()\n",
    "plt.grid()\n",
    "plt.show()"
   ]
  },
  {
   "cell_type": "code",
   "execution_count": 28,
   "metadata": {},
   "outputs": [],
   "source": [
    "\n",
    "df = pd.read_csv('MOF-CO2/Co2WithVolumetricAtomTypes.csv')\n",
    "df = df.dropna()\n",
    "\n",
    "df = df.drop_duplicates(['MOF'],keep='first')\n"
   ]
  },
  {
   "cell_type": "code",
   "execution_count": 29,
   "metadata": {},
   "outputs": [
    {
     "name": "stdout",
     "output_type": "stream",
     "text": [
      "number of errors:  121  out of  4243\n"
     ]
    }
   ],
   "source": [
    "nb_atoms_dataset = np.zeros(len(df))\n",
    "nb_atoms_dataset_noH = np.zeros(len(df))\n",
    "\n",
    "error=0\n",
    "i=0\n",
    "for _, row in df.iterrows():\n",
    "    if(row['MOF']+\"_clean.cif\" in os.listdir(dirname1)):\n",
    "        with open(dirname1+row['MOF']+\"_clean.cif\", \"r\") as f:\n",
    "            num_lines = sum(1 for _ in f)\n",
    "            nb_atoms_dataset[i] = num_lines - 25  \n",
    "            f.seek(0)\n",
    "            num_lines = sum(1 for l in f if \"H\" not in l)\n",
    "            nb_atoms_dataset_noH[i] = num_lines - 24\n",
    "            i+=1\n",
    "    elif(row['MOF']+\".cif\" in os.listdir(dirname2)):\n",
    "        with open(dirname2+row['MOF']+\".cif\", \"r\") as f:\n",
    "            num_lines = sum(1 for _ in f)\n",
    "            nb_atoms_dataset[i] = num_lines - 30  \n",
    "            f.seek(0)\n",
    "            num_lines = sum(1 for l in f if \"H\" not in l)\n",
    "            nb_atoms_dataset_noH[i] = num_lines - 29\n",
    "            i+=1\n",
    "    else:\n",
    "        error+=1\n",
    "\n",
    "print(\"number of errors: \", error, \" out of \", len(df))\n",
    "    #break"
   ]
  },
  {
   "cell_type": "code",
   "execution_count": 30,
   "metadata": {},
   "outputs": [
    {
     "data": {
      "image/png": "[encoded data removed]",
      "text/plain": [
       "<Figure size 640x480 with 1 Axes>"
      ]
     },
     "metadata": {},
     "output_type": "display_data"
    }
   ],
   "source": [
    "import matplotlib.pyplot as plt\n",
    "bins=[1,10,20,30,40,50,60]\n",
    "\n",
    "plt.hist(nb_atoms_dataset_noH, bins= bins, alpha = 0.6, label = 'no H')\n",
    "\n",
    "plt.hist(nb_atoms_dataset,bins = bins, alpha = 0.6,label = 'all') \n",
    "#plt.yscale('log')\n",
    "plt.title(\"within dataset\")\n",
    "plt.legend()\n",
    "plt.grid()\n",
    "plt.show()"
   ]
  }
 ],
 "metadata": {
  "kernelspec": {
   "display_name": "ccsd_env",
   "language": "python",
   "name": "python3"
  },
  "language_info": {
   "codemirror_mode": {
    "name": "ipython",
    "version": 3
   },
   "file_extension": ".py",
   "mimetype": "text/x-python",
   "name": "python",
   "nbconvert_exporter": "python",
   "pygments_lexer": "ipython3",
   "version": "3.10.12"
  }
 },
 "nbformat": 4,
 "nbformat_minor": 2
}
