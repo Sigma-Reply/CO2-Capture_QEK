{
 "cells": [
  {
   "cell_type": "markdown",
   "id": "02ce9f12",
   "metadata": {
    "tags": [
     "papermill-error-cell-tag"
    ]
   },
   "source": [
    "<span style=\"color:red; font-family:Helvetica Neue, Helvetica, Arial, sans-serif; font-size:2em;\">An Exception was encountered at '<a href=\"#papermill-error-cell\">In [8]</a>'.</span>"
   ]
  },
  {
   "cell_type": "code",
   "execution_count": 1,
   "id": "b492223d",
   "metadata": {
    "execution": {
     "iopub.execute_input": "2023-11-03T17:28:03.919681Z",
     "iopub.status.busy": "2023-11-03T17:28:03.919484Z",
     "iopub.status.idle": "2023-11-03T17:28:05.274386Z",
     "shell.execute_reply": "2023-11-03T17:28:05.273810Z"
    },
    "papermill": {
     "duration": 1.366193,
     "end_time": "2023-11-03T17:28:05.275978",
     "exception": false,
     "start_time": "2023-11-03T17:28:03.909785",
     "status": "completed"
    },
    "tags": []
   },
   "outputs": [
    {
     "name": "stderr",
     "output_type": "stream",
     "text": [
      "/Users/Brian/workspace/Research/CO2_Capture_GNN/.conda/lib/python3.10/site-packages/qutip/__init__.py:65: UserWarning: The new version of Cython, (>= 3.0.0) is not supported.\n",
      "  warnings.warn(\n"
     ]
    }
   ],
   "source": [
    "import numpy as np\n",
    "import scipy\n",
    "\n",
    "from pprint import pprint\n",
    "import matplotlib.pyplot as plt\n",
    "from IPython.display import HTML\n",
    "import matplotlib.animation\n",
    "#from scipy.linalg import expm\n",
    "\n",
    "import time\n",
    "import pickle\n",
    "from pasqal_cloud import SDK\n",
    "from pasqal_cloud.device import EmulatorType\n",
    "\n",
    "import pulser\n",
    "import qutip\n",
    "from pulser import Pulse, Sequence, Register\n",
    "from pulser_simulation import QutipEmulator\n",
    "from pulser.waveforms import RampWaveform, ConstantWaveform\n",
    "from pulser.devices import Chadoq2, MockDevice"
   ]
  },
  {
   "cell_type": "markdown",
   "id": "a7cc34b0",
   "metadata": {
    "papermill": {
     "duration": 0.003267,
     "end_time": "2023-11-03T17:28:05.283292",
     "exception": false,
     "start_time": "2023-11-03T17:28:05.280025",
     "status": "completed"
    },
    "tags": []
   },
   "source": [
    "## Cloud setup"
   ]
  },
  {
   "cell_type": "code",
   "execution_count": 2,
   "id": "d59e1b9e",
   "metadata": {
    "execution": {
     "iopub.execute_input": "2023-11-03T17:28:05.290122Z",
     "iopub.status.busy": "2023-11-03T17:28:05.289919Z",
     "iopub.status.idle": "2023-11-03T17:28:05.292331Z",
     "shell.execute_reply": "2023-11-03T17:28:05.291958Z"
    },
    "papermill": {
     "duration": 0.007316,
     "end_time": "2023-11-03T17:28:05.293521",
     "exception": false,
     "start_time": "2023-11-03T17:28:05.286205",
     "status": "completed"
    },
    "tags": []
   },
   "outputs": [],
   "source": [
    "\n",
    "project_id = \"1d856b2d-58b1-4602-ad8a-e18f2db96bc3\"\n",
    "username = \"br.ventura@reply.com\"\n",
    "password = \"Ventur@007?\"\n",
    "\n",
    "\n",
    "CLOUD = False"
   ]
  },
  {
   "cell_type": "markdown",
   "id": "38eedc78",
   "metadata": {
    "papermill": {
     "duration": 0.002842,
     "end_time": "2023-11-03T17:28:05.299620",
     "exception": false,
     "start_time": "2023-11-03T17:28:05.296778",
     "status": "completed"
    },
    "tags": []
   },
   "source": [
    "## Graph MOF extraction"
   ]
  },
  {
   "cell_type": "code",
   "execution_count": 3,
   "id": "99abe13c",
   "metadata": {
    "execution": {
     "iopub.execute_input": "2023-11-03T17:28:05.306064Z",
     "iopub.status.busy": "2023-11-03T17:28:05.305822Z",
     "iopub.status.idle": "2023-11-03T17:28:05.308962Z",
     "shell.execute_reply": "2023-11-03T17:28:05.308538Z"
    },
    "papermill": {
     "duration": 0.00779,
     "end_time": "2023-11-03T17:28:05.310059",
     "exception": false,
     "start_time": "2023-11-03T17:28:05.302269",
     "status": "completed"
    },
    "tags": []
   },
   "outputs": [],
   "source": [
    "def MOF_reader(mol_str):\n",
    "   with open('dataset_txt/'+mol_str+'_txt') as file:\n",
    "    lines = file.readlines()\n",
    "    N = len(lines)-1\n",
    "    d = float(lines[0])\n",
    "    plane_coords = np.array([lines[i].split() for i in range(1,N+1)], float)\n",
    "    \n",
    "    return d, plane_coords"
   ]
  },
  {
   "cell_type": "code",
   "execution_count": 4,
   "id": "b50b0ef3",
   "metadata": {
    "execution": {
     "iopub.execute_input": "2023-11-03T17:28:05.318029Z",
     "iopub.status.busy": "2023-11-03T17:28:05.317840Z",
     "iopub.status.idle": "2023-11-03T17:28:05.319832Z",
     "shell.execute_reply": "2023-11-03T17:28:05.319522Z"
    },
    "papermill": {
     "duration": 0.006548,
     "end_time": "2023-11-03T17:28:05.320991",
     "exception": false,
     "start_time": "2023-11-03T17:28:05.314443",
     "status": "completed"
    },
    "tags": [
     "parameters"
    ]
   },
   "outputs": [],
   "source": [
    "MOF = \"RURPAW\"\n"
   ]
  },
  {
   "cell_type": "code",
   "execution_count": 5,
   "id": "ebd40fcf",
   "metadata": {
    "execution": {
     "iopub.execute_input": "2023-11-03T17:28:05.329477Z",
     "iopub.status.busy": "2023-11-03T17:28:05.329321Z",
     "iopub.status.idle": "2023-11-03T17:28:05.331327Z",
     "shell.execute_reply": "2023-11-03T17:28:05.330939Z"
    },
    "papermill": {
     "duration": 0.007857,
     "end_time": "2023-11-03T17:28:05.332396",
     "exception": false,
     "start_time": "2023-11-03T17:28:05.324539",
     "status": "completed"
    },
    "tags": [
     "injected-parameters"
    ]
   },
   "outputs": [],
   "source": [
    "# Parameters\n",
    "MOF = \"AHOKIR01\"\n"
   ]
  },
  {
   "cell_type": "code",
   "execution_count": 6,
   "id": "bb78a465",
   "metadata": {
    "execution": {
     "iopub.execute_input": "2023-11-03T17:28:05.338710Z",
     "iopub.status.busy": "2023-11-03T17:28:05.338534Z",
     "iopub.status.idle": "2023-11-03T17:28:05.344007Z",
     "shell.execute_reply": "2023-11-03T17:28:05.343651Z"
    },
    "papermill": {
     "duration": 0.010039,
     "end_time": "2023-11-03T17:28:05.345194",
     "exception": false,
     "start_time": "2023-11-03T17:28:05.335155",
     "status": "completed"
    },
    "tags": []
   },
   "outputs": [
    {
     "data": {
      "text/plain": [
       "array([[ 1.87750895, -2.11188591],\n",
       "       [ 2.47459113, -3.05173109],\n",
       "       [ 2.43510197, -2.43395445],\n",
       "       [ 2.39487777, -3.65518912],\n",
       "       [ 2.34807076, -1.72297621],\n",
       "       [ 3.10969872, -3.03732382],\n",
       "       [ 3.09868125, -2.70029021],\n",
       "       [ 3.75353663, -2.99432677],\n",
       "       [ 3.74202942, -2.39163576],\n",
       "       [ 1.86541634, -3.17889212],\n",
       "       [ 3.10990427, -3.63926526],\n",
       "       [ 4.38949377, -3.00074944],\n",
       "       [ 5.00070906, -3.15505706],\n",
       "       [ 5.62536661, -3.21876504],\n",
       "       [ 5.84214647, -3.7859023 ],\n",
       "       [ 5.7792897 , -2.63158946],\n",
       "       [ 6.23473864, -3.18573904],\n",
       "       [ 5.12492545, -3.74291849],\n",
       "       [ 5.0723226 , -2.76150168],\n",
       "       [ 4.42454139, -3.59897056],\n",
       "       [ 4.45670542, -2.4009102 ],\n",
       "       [ 3.75878872, -3.34183315],\n",
       "       [ 1.23431953, -2.11947686],\n",
       "       [ 1.40052414, -2.73787125],\n",
       "       [ 1.76229178, -2.50801099],\n",
       "       [ 1.65665119, -1.54206996],\n",
       "       [ 2.59535778, -4.21720424],\n",
       "       [ 1.9031551 , -3.99323233],\n",
       "       [ 2.12288962, -1.17080722],\n",
       "       [ 6.10479318, -4.32133171],\n",
       "       [ 6.06526314, -2.10824259],\n",
       "       [ 6.7079358 , -3.54901701],\n",
       "       [ 6.7070718 , -2.8213486 ],\n",
       "       [ 0.79268511, -2.68312511],\n",
       "       [ 1.15887287, -3.29785345]])"
      ]
     },
     "execution_count": 6,
     "metadata": {},
     "output_type": "execute_result"
    }
   ],
   "source": [
    "\n",
    "d,coords = MOF_reader(MOF)\n",
    "coords"
   ]
  },
  {
   "cell_type": "code",
   "execution_count": 7,
   "id": "974cf65c",
   "metadata": {
    "execution": {
     "iopub.execute_input": "2023-11-03T17:28:05.352492Z",
     "iopub.status.busy": "2023-11-03T17:28:05.352297Z",
     "iopub.status.idle": "2023-11-03T17:28:05.354574Z",
     "shell.execute_reply": "2023-11-03T17:28:05.354236Z"
    },
    "papermill": {
     "duration": 0.007131,
     "end_time": "2023-11-03T17:28:05.355686",
     "exception": false,
     "start_time": "2023-11-03T17:28:05.348555",
     "status": "completed"
    },
    "tags": []
   },
   "outputs": [],
   "source": [
    "Omega = 1   * 2*np.pi\n",
    "delta = 0.7 * 2*np.pi\n",
    "U = 138e5"
   ]
  },
  {
   "cell_type": "markdown",
   "id": "34b3bdc0",
   "metadata": {
    "tags": [
     "papermill-error-cell-tag"
    ]
   },
   "source": [
    "<span id=\"papermill-error-cell\" style=\"color:red; font-family:Helvetica Neue, Helvetica, Arial, sans-serif; font-size:2em;\">Execution using papermill encountered an exception here and stopped:</span>"
   ]
  },
  {
   "cell_type": "code",
   "execution_count": 8,
   "id": "aed15088",
   "metadata": {
    "execution": {
     "iopub.execute_input": "2023-11-03T17:28:05.363182Z",
     "iopub.status.busy": "2023-11-03T17:28:05.362976Z",
     "iopub.status.idle": "2023-11-03T17:28:12.268024Z",
     "shell.execute_reply": "2023-11-03T17:28:12.267415Z"
    },
    "papermill": {
     "duration": 6.910302,
     "end_time": "2023-11-03T17:28:12.269125",
     "exception": true,
     "start_time": "2023-11-03T17:28:05.358823",
     "status": "failed"
    },
    "tags": []
   },
   "outputs": [
    {
     "ename": "OverflowError",
     "evalue": "value too large",
     "output_type": "error",
     "traceback": [
      "\u001b[0;31m---------------------------------------------------------------------------\u001b[0m",
      "\u001b[0;31mOverflowError\u001b[0m                             Traceback (most recent call last)",
      "Cell \u001b[0;32mIn[8], line 30\u001b[0m\n\u001b[1;32m     25\u001b[0m         prod[j] \u001b[38;5;241m=\u001b[39m (qutip\u001b[38;5;241m.\u001b[39mqeye(\u001b[38;5;241m2\u001b[39m) \u001b[38;5;241m+\u001b[39m qutip\u001b[38;5;241m.\u001b[39msigmaz()) \u001b[38;5;241m/\u001b[39m \u001b[38;5;241m2\u001b[39m\n\u001b[1;32m     26\u001b[0m     \u001b[38;5;28;01mreturn\u001b[39;00m qutip\u001b[38;5;241m.\u001b[39mtensor(prod)\n\u001b[0;32m---> 30\u001b[0m excited \u001b[38;5;241m=\u001b[39m \u001b[43mexcitation2\u001b[49m\u001b[43m(\u001b[49m\u001b[43m[\u001b[49m\u001b[38;5;241;43m0\u001b[39;49m\u001b[43m,\u001b[49m\u001b[38;5;241;43m1\u001b[39;49m\u001b[43m,\u001b[49m\u001b[38;5;241;43m2\u001b[39;49m\u001b[43m,\u001b[49m\u001b[38;5;241;43m3\u001b[39;49m\u001b[43m,\u001b[49m\u001b[38;5;241;43m4\u001b[39;49m\u001b[43m,\u001b[49m\u001b[38;5;241;43m5\u001b[39;49m\u001b[43m]\u001b[49m\u001b[43m,\u001b[49m\u001b[43mn\u001b[49m\u001b[43m)\u001b[49m\n\u001b[1;32m     32\u001b[0m excited \u001b[38;5;241m=\u001b[39m excitation(\u001b[38;5;241m5\u001b[39m,n)\n\u001b[1;32m     35\u001b[0m qubits1 \u001b[38;5;241m=\u001b[39m \u001b[38;5;28mdict\u001b[39m(\u001b[38;5;28menumerate\u001b[39m(G1))\n",
      "Cell \u001b[0;32mIn[8], line 26\u001b[0m, in \u001b[0;36mexcitation2\u001b[0;34m(l, n)\u001b[0m\n\u001b[1;32m     24\u001b[0m \u001b[38;5;28;01mfor\u001b[39;00m j \u001b[38;5;129;01min\u001b[39;00m l:\n\u001b[1;32m     25\u001b[0m     prod[j] \u001b[38;5;241m=\u001b[39m (qutip\u001b[38;5;241m.\u001b[39mqeye(\u001b[38;5;241m2\u001b[39m) \u001b[38;5;241m+\u001b[39m qutip\u001b[38;5;241m.\u001b[39msigmaz()) \u001b[38;5;241m/\u001b[39m \u001b[38;5;241m2\u001b[39m\n\u001b[0;32m---> 26\u001b[0m \u001b[38;5;28;01mreturn\u001b[39;00m \u001b[43mqutip\u001b[49m\u001b[38;5;241;43m.\u001b[39;49m\u001b[43mtensor\u001b[49m\u001b[43m(\u001b[49m\u001b[43mprod\u001b[49m\u001b[43m)\u001b[49m\n",
      "File \u001b[0;32m~/workspace/Research/CO2_Capture_GNN/.conda/lib/python3.10/site-packages/qutip/tensor.py:84\u001b[0m, in \u001b[0;36mtensor\u001b[0;34m(*args)\u001b[0m\n\u001b[1;32m     82\u001b[0m     out\u001b[38;5;241m.\u001b[39mdims \u001b[38;5;241m=\u001b[39m q\u001b[38;5;241m.\u001b[39mdims\n\u001b[1;32m     83\u001b[0m \u001b[38;5;28;01melse\u001b[39;00m:\n\u001b[0;32m---> 84\u001b[0m     out\u001b[38;5;241m.\u001b[39mdata  \u001b[38;5;241m=\u001b[39m \u001b[43mzcsr_kron\u001b[49m\u001b[43m(\u001b[49m\u001b[43mout\u001b[49m\u001b[38;5;241;43m.\u001b[39;49m\u001b[43mdata\u001b[49m\u001b[43m,\u001b[49m\u001b[43m \u001b[49m\u001b[43mq\u001b[49m\u001b[38;5;241;43m.\u001b[39;49m\u001b[43mdata\u001b[49m\u001b[43m)\u001b[49m\n\u001b[1;32m     86\u001b[0m     out\u001b[38;5;241m.\u001b[39mdims \u001b[38;5;241m=\u001b[39m [out\u001b[38;5;241m.\u001b[39mdims[\u001b[38;5;241m0\u001b[39m] \u001b[38;5;241m+\u001b[39m q\u001b[38;5;241m.\u001b[39mdims[\u001b[38;5;241m0\u001b[39m], out\u001b[38;5;241m.\u001b[39mdims[\u001b[38;5;241m1\u001b[39m] \u001b[38;5;241m+\u001b[39m q\u001b[38;5;241m.\u001b[39mdims[\u001b[38;5;241m1\u001b[39m]]\n\u001b[1;32m     88\u001b[0m out\u001b[38;5;241m.\u001b[39misherm \u001b[38;5;241m=\u001b[39m out\u001b[38;5;241m.\u001b[39misherm \u001b[38;5;129;01mand\u001b[39;00m q\u001b[38;5;241m.\u001b[39misherm\n",
      "File \u001b[0;32m~/workspace/Research/CO2_Capture_GNN/.conda/lib/python3.10/site-packages/qutip/cy/spmath.pyx:329\u001b[0m, in \u001b[0;36mqutip.cy.spmath.zcsr_kron\u001b[0;34m()\u001b[0m\n",
      "File \u001b[0;32m~/workspace/Research/CO2_Capture_GNN/.conda/lib/python3.10/site-packages/qutip/cy/spmath.pyx:673\u001b[0m, in \u001b[0;36mqutip.cy.spmath._safe_multiply\u001b[0;34m()\u001b[0m\n",
      "\u001b[0;31mOverflowError\u001b[0m: value too large"
     ]
    }
   ],
   "source": [
    "\n",
    "n = len(coords)\n",
    "#n = 6\n",
    "\n",
    "def graph_desc(rNN):\n",
    "   \n",
    "    G1 = [rNN*np.array([c[0],c[1]]) for c in coords/d/3]\n",
    "    #G1 = [[rNN*i, 0] for i in range(6)]\n",
    "    return G1\n",
    "\n",
    "G1 = graph_desc(15)\n",
    "\n",
    "\n",
    "        \n",
    "def excitation(j, total_sites):\n",
    "    \"\"\"The |0><0| projector operator on site j.\"\"\"\n",
    "    prod = [qutip.qeye(2) for _ in range(total_sites)]\n",
    "    prod[j] = (qutip.qeye(2) + qutip.sigmaz()) / 2\n",
    "    return qutip.tensor(prod)\n",
    "\n",
    "\n",
    "def excitation2(l, n = 6):\n",
    "    \"\"\"The |0><0| projector operator on site j.\"\"\"\n",
    "    prod = [qutip.qeye(2) for _ in range(n)]\n",
    "    for j in l:\n",
    "        prod[j] = (qutip.qeye(2) + qutip.sigmaz()) / 2\n",
    "    return qutip.tensor(prod)\n",
    "\n",
    "\n",
    "\n",
    "excited = excitation2([0,1,2,3,4,5],n)\n",
    "\n",
    "excited = excitation(5,n)\n",
    "\n",
    "\n",
    "qubits1 = dict(enumerate(G1))\n",
    "reg1 = Register(qubits1)\n",
    "reg1.draw(blockade_radius=(U/Omega)**(1/6), draw_half_radius=True, draw_graph=True)"
   ]
  },
  {
   "cell_type": "code",
   "execution_count": null,
   "id": "18f708c0",
   "metadata": {
    "papermill": {
     "duration": null,
     "end_time": null,
     "exception": null,
     "start_time": null,
     "status": "pending"
    },
    "tags": []
   },
   "outputs": [],
   "source": [
    "seq = Sequence(reg1, MockDevice)\n",
    "seq.declare_channel(\"ising\", \"rydberg_global\")\n",
    "\n",
    "\n",
    "M = 10000\n",
    "sampling_rate = 1/100\n"
   ]
  },
  {
   "cell_type": "code",
   "execution_count": null,
   "id": "3dec7a4f",
   "metadata": {
    "papermill": {
     "duration": null,
     "end_time": null,
     "exception": null,
     "start_time": null,
     "status": "pending"
    },
    "tags": []
   },
   "outputs": [],
   "source": [
    "print('Enter your name:')\n",
    "x"
   ]
  },
  {
   "cell_type": "code",
   "execution_count": null,
   "id": "f079bdb9",
   "metadata": {
    "papermill": {
     "duration": null,
     "end_time": null,
     "exception": null,
     "start_time": null,
     "status": "pending"
    },
    "tags": []
   },
   "outputs": [],
   "source": [
    "K = 100\n",
    "rNN_vec = np.linspace(25,3.,K)\n"
   ]
  },
  {
   "cell_type": "code",
   "execution_count": null,
   "id": "99eaf629",
   "metadata": {
    "papermill": {
     "duration": null,
     "end_time": null,
     "exception": null,
     "start_time": null,
     "status": "pending"
    },
    "tags": []
   },
   "outputs": [],
   "source": [
    "if(CLOUD):\n",
    "    print(\"You are about to launch jobs on the cloud, continue ?\")\n",
    "    x = input()\n",
    "    if(x==\"y\"):\n",
    "        print('Good')\n",
    "    else:\n",
    "        raise SystemExit(0)\n"
   ]
  },
  {
   "cell_type": "code",
   "execution_count": null,
   "id": "c991495b",
   "metadata": {
    "papermill": {
     "duration": null,
     "end_time": null,
     "exception": null,
     "start_time": null,
     "status": "pending"
    },
    "tags": []
   },
   "outputs": [],
   "source": [
    "#papermill_description=TQDM_DESCRIPTION\n",
    "\n",
    "datafolder_Time_state_Evolution = \"./dataset_txt/Time_evolution/\"\n",
    "datafolder_FFT_obs_Evolution = \"./dataset_txt/FFT_feature/\"\n",
    "\n",
    "\n",
    "\n",
    "L = int(sampling_rate*M)\n",
    "T = np.linspace(0,int(M/1000),L)\n",
    "#STATE = np.zeros((K,L,2**n), dtype=complex)\n",
    "STATE = []\n",
    "\n",
    "\n",
    "results = []\n",
    "for k in range(K):\n",
    "    if(k%10==0):\n",
    "        print(k)\n",
    "    r = rNN_vec[k]\n",
    "    G1 = graph_desc(r)\n",
    "    \n",
    "    qubits1 = dict(enumerate(G1))\n",
    "    reg1 = Register(qubits1)\n",
    "\n",
    "    seq = Sequence(reg1, MockDevice)\n",
    "    seq.declare_channel(\"rydberg\", \"rydberg_global\")\n",
    "    \n",
    "\n",
    "    \n",
    "    simple_pulse = Pulse.ConstantPulse(M, Omega, 3*Omega, 0)\n",
    "    \n",
    "    #_omega = ConstantWaveform(M, Omega/10)\n",
    "    #_omega = RampWaveform(M, rNN_vec[0]**6/1000, rNN_vec[24]**6/1000)\n",
    "    #_delta = RampWaveform(M, 4, 20)  # Duration: 1000ns, linear sweep from -20 to 20 rad/µs\n",
    "    #_delta = ConstantWaveform(M, 0.7*2*np.pi)\n",
    "    \n",
    "    #simple_pulse = Pulse(_omega,_delta,phase=0)\n",
    "\n",
    "    seq.add(simple_pulse, \"rydberg\")\n",
    "    seq.measure(basis=\"ground-rydberg\")\n",
    "    \n",
    "    serialized_sequence = seq.to_abstract_repr()\n",
    "\n",
    "    \n",
    "    if(not CLOUD):\n",
    "        sim = QutipEmulator.from_sequence(seq,sampling_rate=sampling_rate)\n",
    "        result = sim.run(progress_bar=False, nsteps=500000)\n",
    "        # Store state vector\n",
    "        #for i in range(L):\n",
    "        #    STATE[k,i,:] = np.array(result.get_state(T[i])).reshape(2**n)\n",
    "        #\n",
    "        STATE.append(result)\n",
    "        results.append(result.expect([excited])[0])\n",
    "    else:\n",
    "        # Initialize the cloud client\n",
    "        sdk = SDK(username=username, password=password, project_id=project_id)\n",
    "        # When creating a job, select a number of runs and set the desired values for the variables\n",
    "        # defined in the sequence\n",
    "        job1 = {\"runs\": 1000}\n",
    "\n",
    "        # You can also choose to run your batch on an emulator using the optional argument 'emulator'\n",
    "        # For using a basic single-threaded QPU emulator that can go up to 10 qubits, you can specify the \"EMU_FREE\" emulator.\n",
    "        batch = sdk.create_batch(\n",
    "            serialized_sequence, [job1], emulator=EmulatorType.EMU_TN, wait=True\n",
    "             )\n",
    "\n",
    "            # print(f\"job-id: {job.id}, status: {job.status}, result: {job.result}\")\n",
    "        #for job in batch.ordered_jobs:\n",
    "            #print(f\"job-id: {job.id}, status: {job.status}, result: {job.result}\")\n",
    "        #job.result\n",
    "\n",
    "qutip.qsave(STATE, datafolder_Time_state_Evolution+MOF)\n",
    "\n",
    "qutip.qsave(results, datafolder_FFT_obs_Evolution+MOF)\n",
    "    #results.append(result.expect([excited])[0])\n"
   ]
  },
  {
   "cell_type": "code",
   "execution_count": null,
   "id": "c7cbf6ce",
   "metadata": {
    "papermill": {
     "duration": null,
     "end_time": null,
     "exception": null,
     "start_time": null,
     "status": "pending"
    },
    "tags": []
   },
   "outputs": [],
   "source": [
    "#STATE = qutip.qload(datafolder_Time_state_Evolution+MOF)\n"
   ]
  },
  {
   "cell_type": "code",
   "execution_count": null,
   "id": "6419e2e1",
   "metadata": {
    "papermill": {
     "duration": null,
     "end_time": null,
     "exception": null,
     "start_time": null,
     "status": "pending"
    },
    "tags": []
   },
   "outputs": [],
   "source": [
    "#"
   ]
  },
  {
   "cell_type": "code",
   "execution_count": null,
   "id": "06f79581",
   "metadata": {
    "papermill": {
     "duration": null,
     "end_time": null,
     "exception": null,
     "start_time": null,
     "status": "pending"
    },
    "tags": []
   },
   "outputs": [],
   "source": []
  },
  {
   "cell_type": "code",
   "execution_count": null,
   "id": "445478c5",
   "metadata": {
    "papermill": {
     "duration": null,
     "end_time": null,
     "exception": null,
     "start_time": null,
     "status": "pending"
    },
    "tags": []
   },
   "outputs": [],
   "source": [
    "results = np.array(results)\n",
    "\n",
    "#T = np.linspace(0,4,int(M*sampling_rate))\n",
    "\n",
    "fig, ax = plt.subplots()\n",
    "l, = plt.plot(T,results[0,:])\n",
    "ax.set_ylabel('y')\n",
    "ax.set_xlabel('x')\n",
    "#ax.set_ylim([0,2])\n",
    "\n",
    "def animate(i):\n",
    "    l.set_data(T,results[i,:])\n",
    "    ax.set_title(rNN_vec[i])\n",
    "ani = matplotlib.animation.FuncAnimation(fig, animate, interval=25, frames=K)\n",
    "\n",
    "       \n",
    "HTML(ani.to_jshtml())"
   ]
  },
  {
   "cell_type": "code",
   "execution_count": null,
   "id": "a8534024",
   "metadata": {
    "papermill": {
     "duration": null,
     "end_time": null,
     "exception": null,
     "start_time": null,
     "status": "pending"
    },
    "tags": []
   },
   "outputs": [],
   "source": [
    "#print(dt)\n",
    "#print((scipy.fft.fftfreq(M*10, dt/10)))\n",
    "#print(results)\n",
    "#print(1/dt)\n",
    "#print(scipy.fft.fftfreq(M, dt))\n",
    "int(M*sampling_rate)"
   ]
  },
  {
   "cell_type": "code",
   "execution_count": null,
   "id": "a621ed7f",
   "metadata": {
    "papermill": {
     "duration": null,
     "end_time": null,
     "exception": null,
     "start_time": null,
     "status": "pending"
    },
    "tags": []
   },
   "outputs": [],
   "source": [
    "# For better frequency resolution\n",
    "\n",
    "\n",
    "\n",
    "FFT = np.zeros((K,int(M*sampling_rate//2)))\n",
    "FFTw = np.zeros((K,int(M*sampling_rate//2)))\n",
    "dt = T[1]-T[0]\n",
    "xf = scipy.fft.fftfreq(int(M*sampling_rate), dt)[:int(M*sampling_rate//2)]\n",
    "\n",
    "from scipy.signal.windows import blackman\n",
    "#window = blackman(T.shape[-1]//samplinsg_rate+1)\n",
    "\n",
    "for i in range(K):\n",
    "    results_sampled = results[i,:]\n",
    "\n",
    "    FFT[i,:] = 2/M/sampling_rate*np.abs(scipy.fft.fft(results_sampled)[:int(M*sampling_rate//2)])\n",
    "    #FFTw[i,:] = 2/M*np.abs(scipy.fft.fft(results_sampled*window)[:M//sampling_rate//2])\n",
    "    \n"
   ]
  },
  {
   "cell_type": "code",
   "execution_count": null,
   "id": "0b012267",
   "metadata": {
    "papermill": {
     "duration": null,
     "end_time": null,
     "exception": null,
     "start_time": null,
     "status": "pending"
    },
    "tags": []
   },
   "outputs": [],
   "source": [
    "print(len(xf))\n",
    "print(xf)\n"
   ]
  },
  {
   "cell_type": "code",
   "execution_count": null,
   "id": "3e605679",
   "metadata": {
    "papermill": {
     "duration": null,
     "end_time": null,
     "exception": null,
     "start_time": null,
     "status": "pending"
    },
    "tags": []
   },
   "outputs": [],
   "source": [
    "fig, ax = plt.subplots()\n",
    "l, = plt.plot(xf,FFT[0,:])\n",
    "ax.set_ylabel('y')\n",
    "ax.set_xlabel('x')\n",
    "#ax.set_ylim([0,0.75])\n",
    "ax.set_xlim([0,5])\n",
    "\n",
    "def animate(i):\n",
    "    l.set_data(xf,FFT[i,:])\n",
    "    ax.set_title(rNN_vec[i])\n",
    "ani = matplotlib.animation.FuncAnimation(fig, animate, interval=100, frames=K)\n",
    "\n",
    "       \n",
    "HTML(ani.to_jshtml())\n",
    "\n",
    "# ani.save('FFT_rNN_hexa.gif')"
   ]
  },
  {
   "cell_type": "code",
   "execution_count": null,
   "id": "fd4a375a",
   "metadata": {
    "papermill": {
     "duration": null,
     "end_time": null,
     "exception": null,
     "start_time": null,
     "status": "pending"
    },
    "tags": []
   },
   "outputs": [],
   "source": [
    "np.log(FFT[0,:])"
   ]
  },
  {
   "cell_type": "code",
   "execution_count": null,
   "id": "84d06778",
   "metadata": {
    "papermill": {
     "duration": null,
     "end_time": null,
     "exception": null,
     "start_time": null,
     "status": "pending"
    },
    "tags": []
   },
   "outputs": [],
   "source": [
    "print(Omega/2/np.pi*np.sqrt(n))"
   ]
  },
  {
   "cell_type": "code",
   "execution_count": null,
   "id": "3223097d",
   "metadata": {
    "papermill": {
     "duration": null,
     "end_time": null,
     "exception": null,
     "start_time": null,
     "status": "pending"
    },
    "tags": []
   },
   "outputs": [],
   "source": [
    "\n",
    "plt.imshow(results, cmap='plasma', interpolation='nearest',extent=(0,4,25,3), aspect='auto')\n",
    "plt.show()"
   ]
  },
  {
   "cell_type": "code",
   "execution_count": null,
   "id": "5d2b9595",
   "metadata": {
    "papermill": {
     "duration": null,
     "end_time": null,
     "exception": null,
     "start_time": null,
     "status": "pending"
    },
    "tags": []
   },
   "outputs": [],
   "source": [
    "#fftbis = np.array([FFT[i,:],rNN_vec[i] for i in range(100)])\n",
    "#print(fftbis.shape)\n",
    "#fig,(ax1,ax2) = plt.subplots(1,2,figsize=(10,6))\n",
    "plt.rcParams['text.usetex'] = False\n",
    "fig,(ax1,ax2) = plt.subplots(1,2,figsize=(15,6))\n",
    "ax1.set_ylabel(r'$r_{NN}\\, [\\mu m]$',rotation=0,labelpad=20)#, loc='top')\n",
    "ax1.set_xlabel(r'$\\nu\\,[s^{-1}]$',rotation=0,labelpad=10)#, loc='right')\n",
    "im = ax1.imshow(np.log(FFT[:,:]),cmap='plasma',origin='lower', interpolation='nearest', extent=(0,4,25,3), aspect='auto')\n",
    "#ax2.imshow(np.log(FFTw),cmap='plasma',origin='lower', interpolation='nearest', extent=(0,4,25,0.5))\n",
    "#ax1.setgrid()\n",
    "ax1.set_title(\"\")\n",
    "\n",
    "import matplotlib.ticker as ticker\n",
    "def fmt(x, pos):\n",
    "    #a, b = '{:.2e}'.format(x).split('e')\n",
    "    #b = int(b)\n",
    "    return r'$10^{{{}}}$'.format(int(x))\n",
    "\n",
    "plt.colorbar(im, format=ticker.FuncFormatter(fmt))\n",
    "#fig.colorbar(im)\n",
    "#ax1.grid(alpha=0.5, linestyle='-', linewidth=1)\n",
    "G1 = graph_desc(11)\n",
    "\n",
    "qubits1 = dict(enumerate(G1))\n",
    "reg1 = Register(qubits1)\n",
    "reg1.draw(blockade_radius=(U/Omega)**(1/6), draw_half_radius=True, draw_graph=True,custom_ax=ax2)\n",
    "\n",
    "\n",
    "plt.show()"
   ]
  }
 ],
 "metadata": {
  "kernelspec": {
   "display_name": "Python 3",
   "language": "python",
   "name": "python3"
  },
  "language_info": {
   "codemirror_mode": {
    "name": "ipython",
    "version": 3
   },
   "file_extension": ".py",
   "mimetype": "text/x-python",
   "name": "python",
   "nbconvert_exporter": "python",
   "pygments_lexer": "ipython3",
   "version": "3.10.13"
  },
  "papermill": {
   "default_parameters": {},
   "duration": 9.804892,
   "end_time": "2023-11-03T17:28:12.593421",
   "environment_variables": {},
   "exception": true,
   "input_path": "MOF_analysis_cloud.ipynb",
   "output_path": "notebooks/MOF_analysis_AHOKIR01.ipynb",
   "parameters": {
    "MOF": "AHOKIR01"
   },
   "start_time": "2023-11-03T17:28:02.788529",
   "version": "2.4.0"
  }
 },
 "nbformat": 4,
 "nbformat_minor": 5
}