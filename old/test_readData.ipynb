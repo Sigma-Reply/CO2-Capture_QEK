{
 "cells": [
  {
   "cell_type": "code",
   "execution_count": 109,
   "metadata": {},
   "outputs": [],
   "source": [
    "import os\n",
    "import numpy as np\n",
    "import pandas as pd\n",
    "import matplotlib.pyplot as plt\n"
   ]
  },
  {
   "cell_type": "markdown",
   "metadata": {},
   "source": [
    "## The full dataset (CoreMOF + AnionPillared)"
   ]
  },
  {
   "cell_type": "code",
   "execution_count": 110,
   "metadata": {},
   "outputs": [
    {
     "name": "stdout",
     "output_type": "stream",
     "text": [
      "100   elements\n",
      "200   elements\n",
      "300   elements\n",
      "400   elements\n",
      "500   elements\n",
      "600   elements\n",
      "700   elements\n",
      "800   elements\n",
      "900   elements\n",
      "1000   elements\n",
      "1100   elements\n",
      "1200   elements\n",
      "1300   elements\n",
      "1400   elements\n",
      "MOCJEU_clean.cif 17\n",
      "1500   elements\n",
      "1600   elements\n",
      "1700   elements\n",
      "1800   elements\n",
      "1900   elements\n",
      "2000   elements\n",
      "MOCJAQ_clean.cif 17\n",
      "2100   elements\n",
      "2200   elements\n",
      "2300   elements\n",
      "KAHPUE_clean.cif 19\n",
      "2400   elements\n",
      "2500   elements\n",
      "GISZUD_clean.cif 19\n",
      "2600   elements\n",
      "2700   elements\n",
      "ja4012707_si_004_clean.cif 19\n",
      "2800   elements\n",
      "2900   elements\n",
      "3000   elements\n",
      "3100   elements\n",
      "FIGXAU_clean.cif 12\n",
      "3200   elements\n",
      "3300   elements\n",
      "3400   elements\n",
      "3500   elements\n",
      "3600   elements\n",
      "DUXZIG01_clean.cif 19\n",
      "3700   elements\n",
      "LUFQUZ02_clean.cif 19\n",
      "3800   elements\n",
      "ja4012707_si_003_clean.cif 9\n",
      "3900   elements\n",
      "4000   elements\n",
      "4100   elements\n",
      "4200   elements\n",
      "4300   elements\n",
      "4400   elements\n",
      "HADPOU_clean.cif 19\n",
      "4500   elements\n",
      "CICYIX_clean.cif 15\n",
      "4600   elements\n",
      "VECZEI_clean.cif 19\n",
      "FIVNAZ_clean.cif 15\n",
      "4700   elements\n",
      "4800   elements\n",
      "4900   elements\n",
      "5000   elements\n",
      "5100   elements\n",
      "5200   elements\n",
      "TILVUF_clean.cif 19\n",
      "5300   elements\n",
      "5400   elements\n",
      "5500   elements\n",
      "MOCHOC_clean.cif 17\n",
      "5600   elements\n",
      "5700   elements\n",
      "KECRAL10_clean.cif 14\n",
      "5800   elements\n",
      "5900   elements\n",
      "6000   elements\n",
      "6100   elements\n",
      "LUFQUZ01_clean.cif 19\n",
      "6200   elements\n",
      "6300   elements\n",
      "FIGXEY_clean.cif 12\n",
      "6400   elements\n",
      "TILWAM_clean.cif 19\n",
      "6500   elements\n",
      "6600   elements\n",
      "6700   elements\n",
      "6800   elements\n",
      "6900   elements\n",
      "7000   elements\n",
      "JUTCUW_SL.cif 9\n",
      "MOCHUI_clean.cif 17\n",
      "7100   elements\n",
      "7200   elements\n",
      "7300   elements\n",
      "7400   elements\n",
      "XOMCIL_clean.cif 15\n",
      "7500   elements\n",
      "RONZID_clean.cif 19\n",
      "7600   elements\n",
      "7700   elements\n",
      "7800   elements\n",
      "PIYZAZ_clean.cif 9\n",
      "7900   elements\n",
      "8000   elements\n",
      "EBEMEF_clean.cif 19\n",
      "8100   elements\n",
      "LUFQUZ_clean.cif 19\n",
      "NINHOH_clean.cif 19\n",
      "8200   elements\n",
      "RURPAW_clean.cif 19\n",
      "8300   elements\n",
      "8400   elements\n",
      "8500   elements\n",
      "HAKWUM_clean.cif 17\n",
      "8600   elements\n",
      "8700   elements\n",
      "8800   elements\n",
      "ic7025158-file001_clean.cif 11\n",
      "8900   elements\n",
      "9000   elements\n",
      "NIVWIY_clean.cif 15\n",
      "9100   elements\n",
      "9200   elements\n",
      "9300   elements\n",
      "9400   elements\n",
      "9500   elements\n",
      "9600   elements\n",
      "9700   elements\n",
      "9800   elements\n",
      "9900   elements\n",
      "SOBZOY_clean.cif 19\n",
      "10000   elements\n",
      "10100   elements\n",
      "10200   elements\n",
      "10300   elements\n",
      "QESLIK_clean.cif 17\n",
      "10400   elements\n",
      "10500   elements\n",
      "10600   elements\n",
      "MOCHIW_clean.cif 17\n",
      "10700   elements\n",
      "10800   elements\n",
      "10900   elements\n",
      "11000   elements\n",
      "11100   elements\n",
      "11200   elements\n",
      "11300   elements\n",
      "GORQAF_clean.cif 19\n",
      "11400   elements\n",
      "MOCHES_clean.cif 17\n",
      "11500   elements\n",
      "11600   elements\n",
      "ENCNBZ01_clean.cif 19\n",
      "MOCJIY_clean.cif 17\n",
      "11700   elements\n",
      "YIWLEV_clean.cif 16\n",
      "RURPEA_clean.cif 19\n",
      "11800   elements\n",
      "11900   elements\n",
      "12000   elements\n",
      "12100   elements\n",
      "12200   elements\n",
      "12300   elements\n",
      "12400   elements\n",
      "12500   elements\n",
      "12600   elements\n",
      "12700   elements\n",
      "12800   elements\n",
      "12900   elements\n"
     ]
    }
   ],
   "source": [
    "dirname1 = \"dataset/CoREMOF2019-mofdb-version-dc8a0295db/\"\n",
    "dirname2 = \"dataset/Anion-pillared_MOFdataset/Database/\"\n",
    "\n",
    "\n",
    "nb_atoms = np.zeros((len(os.listdir(dirname1))+ len(os.listdir(dirname2))))\n",
    "nb_atoms_noH = np.zeros((len(os.listdir(dirname1))+ len(os.listdir(dirname2))))\n",
    "i=0\n",
    "\n",
    "for files in os.listdir(dirname1):\n",
    "    if not files.endswith(\"cif\"):\n",
    "        continue\n",
    "    with open(dirname1+files, \"r\") as f:\n",
    "        \n",
    "        num_lines = sum(1 for _ in f)\n",
    "        nb_atoms[i] = num_lines - 25\n",
    "        if(num_lines-25 < 20):\n",
    "            print(files, num_lines-25)\n",
    "                    \n",
    "        f.seek(0)\n",
    "        num_lines2 = sum(1 for l in f if \"H\" not in l)\n",
    "        nb_atoms_noH[i] = num_lines2 - 24\n",
    "        #if(num_lines2-24 < 20):\n",
    "        #    print(files, num_lines2-24)\n",
    "        i+=1\n",
    "        if(i%100==0):\n",
    "            print(i, \"  elements\")\n",
    "\n",
    "for files in os.listdir(dirname2):\n",
    "    if not files.endswith(\"cif\"):\n",
    "        continue\n",
    "    with open(dirname2+files, \"r\") as f:\n",
    "        num_lines = sum(1 for _ in f)\n",
    "        nb_atoms[i] = num_lines - 30\n",
    "\n",
    "        f.seek(0)\n",
    "        num_lines = sum(1 for l in f if \"H\" not in l)\n",
    "        nb_atoms_noH[i] = num_lines - 29\n",
    "        \n",
    "        i+=1\n",
    "        if(i%100==0):\n",
    "            print(i, \"  elements\")\n"
   ]
  },
  {
   "cell_type": "code",
   "execution_count": 111,
   "metadata": {},
   "outputs": [],
   "source": [
    "len(nb_atoms)\n",
    "nb_atoms = nb_atoms[nb_atoms > 0]"
   ]
  },
  {
   "cell_type": "code",
   "execution_count": 112,
   "metadata": {},
   "outputs": [
    {
     "data": {
      "image/png": "[encoded data removed]",
      "text/plain": [
       "<Figure size 640x480 with 1 Axes>"
      ]
     },
     "metadata": {},
     "output_type": "display_data"
    }
   ],
   "source": [
    "#bins=[1,10,20,30,40,50,60]\n",
    "bins = np.linspace(0,600,60)\n",
    "plt.hist(nb_atoms, bins= bins, alpha = 0.6, label = 'no H')\n",
    "\n",
    "#plt.yscale('log')\n",
    "plt.title(\"all dataset\")\n",
    "plt.xlabel(\"# atoms\")\n",
    "#plt.yscale(\"log\")\n",
    "plt.ylabel(\"# MOF\",rotation=0,labelpad=20)\n",
    "plt.title(\"MOF distribution w.r.t number of atoms\")\n",
    "plt.legend()\n",
    "plt.grid()\n",
    "plt.show()"
   ]
  },
  {
   "cell_type": "code",
   "execution_count": 113,
   "metadata": {},
   "outputs": [
    {
     "name": "stdout",
     "output_type": "stream",
     "text": [
      "0.3817536276628589\n"
     ]
    }
   ],
   "source": [
    "print( len(nb_atoms[nb_atoms < 140])/len(nb_atoms))"
   ]
  },
  {
   "cell_type": "markdown",
   "metadata": {},
   "source": [
    "## Dataset selection from reference [5]"
   ]
  },
  {
   "cell_type": "markdown",
   "metadata": {},
   "source": [
    "[5] https://doi.org/10.1038/s42004-023-01009-x"
   ]
  },
  {
   "cell_type": "code",
   "execution_count": 114,
   "metadata": {},
   "outputs": [],
   "source": [
    "\n",
    "df = pd.read_csv('MOF-CO2/Co2WithVolumetricAtomTypes.csv')\n",
    "df = df.dropna()\n",
    "\n",
    "df2 = df.drop_duplicates(['MOF'],keep='first')\n"
   ]
  },
  {
   "cell_type": "code",
   "execution_count": 115,
   "metadata": {},
   "outputs": [
    {
     "name": "stdout",
     "output_type": "stream",
     "text": [
      "4243\n"
     ]
    }
   ],
   "source": [
    "print(len(df2))"
   ]
  },
  {
   "cell_type": "markdown",
   "metadata": {},
   "source": [
    "### extract MOFs with less than 25 atoms (more or less..)"
   ]
  },
  {
   "cell_type": "code",
   "execution_count": 116,
   "metadata": {},
   "outputs": [
    {
     "name": "stdout",
     "output_type": "stream",
     "text": [
      "number of errors:  90  out of  4243\n"
     ]
    }
   ],
   "source": [
    "threshold = 25\n",
    "\n",
    "nb_atoms_dataset = np.zeros(len(df2))\n",
    "nb_atoms_dataset_noH = np.zeros(len(df2))\n",
    "error_mof = []\n",
    "select_mof = []\n",
    "error=0\n",
    "i=0\n",
    "for _, row in df2.iterrows():\n",
    "    if(row['MOF']+\"_clean.cif\" in os.listdir(dirname1)):\n",
    "        with open(dirname1+row['MOF']+\"_clean.cif\", \"r\") as f:\n",
    "            num_lines = sum(1 for _ in f)\n",
    "            nb_atoms_dataset[i] = num_lines - 24  \n",
    "            f.seek(0)\n",
    "            num_lines = sum(1 for l in f if \"H\" not in l)\n",
    "            nb_atoms_dataset_noH[i] = num_lines - 23\n",
    "            if(nb_atoms_dataset[i] < threshold):\n",
    "                select_mof.append(row['MOF'])\n",
    "            i+=1\n",
    "    elif(row['MOF']+\"_manual.cif\" in os.listdir(dirname1)):\n",
    "        with open(dirname1+row['MOF']+\"_manual.cif\", \"r\") as f:\n",
    "            num_lines = sum(1 for _ in f)\n",
    "            nb_atoms_dataset[i] = num_lines - 24  \n",
    "            f.seek(0)\n",
    "            num_lines = sum(1 for l in f if \"H\" not in l)\n",
    "            nb_atoms_dataset_noH[i] = num_lines - 23\n",
    "            if(nb_atoms_dataset[i] < threshold):\n",
    "                select_mof.append(row['MOF'])\n",
    "            i+=1\n",
    "                \n",
    "    elif(row['MOF']+\".cif\" in os.listdir(dirname2)):\n",
    "        with open(dirname2+row['MOF']+\".cif\", \"r\") as f:\n",
    "            num_lines = sum(1 for _ in f)\n",
    "            nb_atoms_dataset[i] = num_lines - 30  \n",
    "            f.seek(0)\n",
    "            num_lines = sum(1 for l in f if \"H\" not in l)\n",
    "            nb_atoms_dataset_noH[i] = num_lines - 29\n",
    "            if(nb_atoms_dataset[i] < threshold):\n",
    "                select_mof.append(row['MOF'])\n",
    "            i+=1\n",
    "    else:\n",
    "        error_mof.append(row['MOF'])\n",
    "        error+=1\n",
    "        i+=1\n",
    "\n",
    "print(\"number of errors: \", error, \" out of \", len(df2))\n",
    "    #break"
   ]
  },
  {
   "cell_type": "code",
   "execution_count": 117,
   "metadata": {},
   "outputs": [
    {
     "data": {
      "text/plain": [
       "38"
      ]
     },
     "execution_count": 117,
     "metadata": {},
     "output_type": "execute_result"
    }
   ],
   "source": [
    "len(select_mof)"
   ]
  },
  {
   "cell_type": "code",
   "execution_count": 118,
   "metadata": {},
   "outputs": [
    {
     "data": {
      "text/plain": [
       "['AHOKIR01',\n",
       " 'BOHGOU',\n",
       " 'CICYIX',\n",
       " 'EBEMEF',\n",
       " 'FIGXAU',\n",
       " 'FIGXEY',\n",
       " 'FIVNAZ',\n",
       " 'FUTJOV',\n",
       " 'GISZUD',\n",
       " 'HAKWUM',\n",
       " 'IGAHED',\n",
       " 'KAHPUE',\n",
       " 'KECRAL10',\n",
       " 'LIKFOB',\n",
       " 'LUFQUZ01',\n",
       " 'LUFQUZ02',\n",
       " 'LUFQUZ',\n",
       " 'MOCHES',\n",
       " 'MOCHIW',\n",
       " 'MOCHOC',\n",
       " 'MOCHUI',\n",
       " 'MOCJAQ',\n",
       " 'MOCJEU',\n",
       " 'MOCJIY',\n",
       " 'NINHOH',\n",
       " 'NIVWIY',\n",
       " 'OLOKEF',\n",
       " 'PIYZAZ',\n",
       " 'REGJIW',\n",
       " 'RENWEM01',\n",
       " 'RONZID',\n",
       " 'RURPAW',\n",
       " 'RURPEA',\n",
       " 'SOBZOY',\n",
       " 'TILVUF',\n",
       " 'TILWAM',\n",
       " 'UHISOU',\n",
       " 'XOMCIL']"
      ]
     },
     "execution_count": 118,
     "metadata": {},
     "output_type": "execute_result"
    }
   ],
   "source": [
    "select_mof"
   ]
  },
  {
   "cell_type": "markdown",
   "metadata": {},
   "source": [
    "### General statistics"
   ]
  },
  {
   "cell_type": "code",
   "execution_count": 119,
   "metadata": {},
   "outputs": [
    {
     "data": {
      "image/png": "[encoded data removed]",
      "text/plain": [
       "<Figure size 640x480 with 1 Axes>"
      ]
     },
     "metadata": {},
     "output_type": "display_data"
    }
   ],
   "source": [
    "bins=[1,5,10,15,20,25,30,35,40,45,50]\n",
    "\n",
    "plt.hist(nb_atoms_dataset_noH, bins= bins, alpha = 0.6, label = 'no H')\n",
    "\n",
    "plt.hist(nb_atoms_dataset,bins = bins, alpha = 0.6,label = 'all atoms') \n",
    "plt.xlabel(\"# atoms\")\n",
    "plt.ylabel(\"# MOF\",rotation=0,labelpad=20)\n",
    "plt.title(\"MOF distribution w.r.t number of atoms\")\n",
    "plt.legend()\n",
    "plt.grid()\n",
    "plt.show()"
   ]
  },
  {
   "cell_type": "code",
   "execution_count": 120,
   "metadata": {},
   "outputs": [
    {
     "name": "stdout",
     "output_type": "stream",
     "text": [
      "38\n"
     ]
    },
    {
     "name": "stderr",
     "output_type": "stream",
     "text": [
      "/var/folders/mc/x5xnf4550vj96w2b0ps613680000gp/T/ipykernel_2719/3617690160.py:1: SettingWithCopyWarning: \n",
      "A value is trying to be set on a copy of a slice from a DataFrame.\n",
      "Try using .loc[row_indexer,col_indexer] = value instead\n",
      "\n",
      "See the caveats in the documentation: https://pandas.pydata.org/pandas-docs/stable/user_guide/indexing.html#returning-a-view-versus-a-copy\n",
      "  df2[\"num_atoms\"] = nb_atoms_dataset\n"
     ]
    }
   ],
   "source": [
    "df2[\"num_atoms\"] = nb_atoms_dataset\n",
    "\n",
    "df3 = df2[df2[\"MOF\"].isin(select_mof)]\n",
    "print(len(df3))\n"
   ]
  },
  {
   "cell_type": "code",
   "execution_count": 121,
   "metadata": {},
   "outputs": [
    {
     "data": {
      "image/png": "[encoded data removed]",
      "text/plain": [
       "<Figure size 640x480 with 1 Axes>"
      ]
     },
     "metadata": {},
     "output_type": "display_data"
    }
   ],
   "source": [
    "bins=np.linspace(1,600,60)\n",
    "\n",
    "\n",
    "plt.hist(df2[\"num_atoms\"],bins = bins, alpha = 0.6,edgecolor='black', label = 'all atoms') \n",
    "plt.xlabel(\"# atoms\")\n",
    "#plt.yscale(\"log\")\n",
    "plt.ylabel(\"# MOF\",rotation=0,labelpad=20)\n",
    "plt.title(\"MOF distribution w.r.t number of atoms\")\n",
    "plt.legend()\n",
    "plt.grid()\n",
    "plt.show()\n"
   ]
  },
  {
   "cell_type": "code",
   "execution_count": 122,
   "metadata": {},
   "outputs": [
    {
     "name": "stdout",
     "output_type": "stream",
     "text": [
      "% MOFs with < 140 atoms\t 0.6290360593919396\n",
      "% MOFs with < 60 atoms\t 0.16262078717888287\n"
     ]
    }
   ],
   "source": [
    "print(\"% MOFs with < 140 atoms\\t\", len(df2[df2[\"num_atoms\"] < 140])/len(df2))\n",
    "print(\"% MOFs with < 60 atoms\\t\", len(df2[df2[\"num_atoms\"] < 60])/len(df2))"
   ]
  },
  {
   "cell_type": "markdown",
   "metadata": {},
   "source": [
    "# Complexity study"
   ]
  },
  {
   "cell_type": "code",
   "execution_count": 123,
   "metadata": {},
   "outputs": [],
   "source": [
    "# Veyr rough complexity functions providing the execution time in hours\n",
    "\n",
    "# Normalised to Joliot Curie\n",
    "def complexity_krylov(n, T=2000,K=100, p = 5):\n",
    "    \n",
    "    return (n**2 + 2**n + n**(p+2))*T*K /3600/(7*10**15)\n",
    "\n",
    "def complexity_naive(n, T=2000,K=100):\n",
    "\n",
    "    return (n**2 + 2**(3*n) + 2**(2*n) + 2**(n))*T*K  /3600/ (7*10**15)\n",
    "\n",
    "# Quantum algorithm proposed\n",
    "def complexity_quantum(n, T=2000,K=100, M = 1, tfinal = 15*10**(-6)):\n",
    "\n",
    "    return M * K * T * (tfinal/2 + 1) * n / 3600\n",
    "\n",
    "\n",
    "# Complexity of the Vietoris-Rips algorithm (~Cech complex) NOT NORMALISED TO JOLIOT CURIE\n",
    "# Note that no prefactor is known for now compared to the quantum algo\n",
    "def complexity_cech(n, T=2000,K=100):\n",
    "    return n**2 /3600 #/ (7*10**15)"
   ]
  },
  {
   "cell_type": "code",
   "execution_count": 124,
   "metadata": {},
   "outputs": [
    {
     "data": {
      "text/plain": [
       "0        144\n",
       "3        144\n",
       "6        144\n",
       "9        144\n",
       "12       144\n",
       "        ... \n",
       "12622     64\n",
       "12625    152\n",
       "12628     76\n",
       "12631     82\n",
       "12634     68\n",
       "Name: num_atoms, Length: 4243, dtype: int64"
      ]
     },
     "execution_count": 124,
     "metadata": {},
     "output_type": "execute_result"
    }
   ],
   "source": [
    "df2[\"num_atoms\"].astype(int)"
   ]
  },
  {
   "cell_type": "code",
   "execution_count": 125,
   "metadata": {},
   "outputs": [
    {
     "name": "stdout",
     "output_type": "stream",
     "text": [
      "690\n"
     ]
    },
    {
     "name": "stderr",
     "output_type": "stream",
     "text": [
      "/var/folders/mc/x5xnf4550vj96w2b0ps613680000gp/T/ipykernel_2719/2380860833.py:6: SettingWithCopyWarning: \n",
      "A value is trying to be set on a copy of a slice from a DataFrame.\n",
      "Try using .loc[row_indexer,col_indexer] = value instead\n",
      "\n",
      "See the caveats in the documentation: https://pandas.pydata.org/pandas-docs/stable/user_guide/indexing.html#returning-a-view-versus-a-copy\n",
      "  df3.loc[idx,'complexity_naive'] = complexity_naive(int(df3.loc[idx,\"num_atoms\"]))\n",
      "/var/folders/mc/x5xnf4550vj96w2b0ps613680000gp/T/ipykernel_2719/2380860833.py:7: SettingWithCopyWarning: \n",
      "A value is trying to be set on a copy of a slice from a DataFrame.\n",
      "Try using .loc[row_indexer,col_indexer] = value instead\n",
      "\n",
      "See the caveats in the documentation: https://pandas.pydata.org/pandas-docs/stable/user_guide/indexing.html#returning-a-view-versus-a-copy\n",
      "  df3.loc[idx,'complexity_krylov'] = complexity_krylov(int(df3.loc[idx,\"num_atoms\"]))\n",
      "/var/folders/mc/x5xnf4550vj96w2b0ps613680000gp/T/ipykernel_2719/2380860833.py:8: SettingWithCopyWarning: \n",
      "A value is trying to be set on a copy of a slice from a DataFrame.\n",
      "Try using .loc[row_indexer,col_indexer] = value instead\n",
      "\n",
      "See the caveats in the documentation: https://pandas.pydata.org/pandas-docs/stable/user_guide/indexing.html#returning-a-view-versus-a-copy\n",
      "  df3.loc[idx,'complexity_quantum'] = complexity_quantum(int(df3.loc[idx,\"num_atoms\"]))\n",
      "/var/folders/mc/x5xnf4550vj96w2b0ps613680000gp/T/ipykernel_2719/2380860833.py:9: SettingWithCopyWarning: \n",
      "A value is trying to be set on a copy of a slice from a DataFrame.\n",
      "Try using .loc[row_indexer,col_indexer] = value instead\n",
      "\n",
      "See the caveats in the documentation: https://pandas.pydata.org/pandas-docs/stable/user_guide/indexing.html#returning-a-view-versus-a-copy\n",
      "  df3.loc[idx,'complexity_cech'] = complexity_cech(int(df3.loc[idx,\"num_atoms\"]))\n"
     ]
    }
   ],
   "source": [
    "df3 = df2[df2['num_atoms'] < 60 ]\n",
    "\n",
    "print(len(df3))\n",
    "for idx, row in df3.iterrows():\n",
    "    #print(int(df3.loc[idx,\"num_atoms\"]), complexity_delaunay(int(df3.loc[idx,\"num_atoms\"])))\n",
    "    df3.loc[idx,'complexity_naive'] = complexity_naive(int(df3.loc[idx,\"num_atoms\"]))\n",
    "    df3.loc[idx,'complexity_krylov'] = complexity_krylov(int(df3.loc[idx,\"num_atoms\"]))\n",
    "    df3.loc[idx,'complexity_quantum'] = complexity_quantum(int(df3.loc[idx,\"num_atoms\"]))\n",
    "    df3.loc[idx,'complexity_cech'] = complexity_cech(int(df3.loc[idx,\"num_atoms\"]))\n",
    "    "
   ]
  },
  {
   "cell_type": "code",
   "execution_count": 126,
   "metadata": {},
   "outputs": [
    {
     "name": "stdout",
     "output_type": "stream",
     "text": [
      "naive\t 8.424013662704876e+39\n",
      "krylov\t 126916.37759778491\n",
      "server\t 32904246.043870166\n",
      "PH\t 367.49\n",
      "quantum\t 1522789.1986111111\n"
     ]
    },
    {
     "data": {
      "text/plain": [
       "38333.620833333334"
      ]
     },
     "execution_count": 126,
     "metadata": {},
     "output_type": "execute_result"
    }
   ],
   "source": [
    "print(\"naive\\t\", sum(df3[\"complexity_naive\"]))\n",
    "print(\"krylov\\t\",np.sum(df3['complexity_krylov']))\n",
    "print(\"server\\t\",np.sum(df3['complexity_krylov'])*(7*10**15)/(3*9*10**12))\n",
    "\n",
    "print(\"PH\\t\",np.sum(df3[\"complexity_cech\"]))\n",
    "print(\"quantum\\t\",np.sum(df3[\"complexity_quantum\"]))\n",
    "complexity_quantum(len(df3) )"
   ]
  },
  {
   "cell_type": "code",
   "execution_count": 127,
   "metadata": {},
   "outputs": [
    {
     "data": {
      "text/plain": [
       "Text(0.5, 0, '# atoms')"
      ]
     },
     "execution_count": 127,
     "metadata": {},
     "output_type": "execute_result"
    },
    {
     "data": {
      "image/png": "[encoded data removed]",
      "text/plain": [
       "<Figure size 640x480 with 1 Axes>"
      ]
     },
     "metadata": {},
     "output_type": "display_data"
    }
   ],
   "source": [
    "max = 120\n",
    "x = np.linspace(0,max,max,dtype='int64')\n",
    "\n",
    "\n",
    "r_n = []\n",
    "r_k = []\n",
    "r_q = []\n",
    "r_d = []\n",
    "\n",
    "for n in range(max):\n",
    "    r_n.append(complexity_naive(n))\n",
    "    r_k.append(complexity_krylov(n))\n",
    "    r_q.append(complexity_quantum(n) )\n",
    "    r_d.append(complexity_cech(n) )\n",
    "    #print(\"{:.s3g}\".format(complexity_naive(n)))\n",
    "\n",
    "plt.plot(x[:int(max/2)],r_n[:int(max/2)], label = 'naive classical')\n",
    "plt.plot(x,r_k, label = 'krylov classical')\n",
    "plt.plot(x,r_q, label = 'quantum')\n",
    "#plt.plot(x,r_d, label = 'Cech complex')\n",
    "\n",
    "plt.legend()\n",
    "plt.yscale('log')\n",
    "plt.ylabel(\"Computational time (h)\",rotation=90,labelpad=10)\n",
    "plt.xlabel(\"# atoms\",rotation=0,labelpad=10)"
   ]
  }
 ],
 "metadata": {
  "kernelspec": {
   "display_name": "ccsd_env",
   "language": "python",
   "name": "python3"
  },
  "language_info": {
   "codemirror_mode": {
    "name": "ipython",
    "version": 3
   },
   "file_extension": ".py",
   "mimetype": "text/x-python",
   "name": "python",
   "nbconvert_exporter": "python",
   "pygments_lexer": "ipython3",
   "version": "3.10.13"
  }
 },
 "nbformat": 4,
 "nbformat_minor": 2
}
