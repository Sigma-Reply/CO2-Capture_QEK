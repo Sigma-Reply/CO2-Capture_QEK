{
 "cells": [
  {
   "cell_type": "code",
   "execution_count": 4,
   "metadata": {},
   "outputs": [],
   "source": [
    "import papermill as pm\n",
    "\n"
   ]
  },
  {
   "cell_type": "code",
   "execution_count": 5,
   "metadata": {},
   "outputs": [],
   "source": [
    "MOFlist = [\"AHOKIR01\", \"GISZUD\", \"LUFQUZ01\", \"PIYZAZ\", \"RURPEA\",\"BOHGOU\",\"FIGXAU\" ,   \"HAKWUM\"  ,   \"MOCJEU\",\"RENWEM01\",   \"SOBZOY\",  \"UHISOU\",\"CICYIX\",     \"FIGXEY\",     \"KAHPUE\",  \"NINHOH\",     \"RONZID\",     \"TILVUF\", \"EBEMEF\",   \"FIVNAZ\", \"KECRAL10\",   \"OLOKEF\",     \"RURPAW\"   ,  \"TILWAM\"]"
   ]
  },
  {
   "cell_type": "code",
   "execution_count": 6,
   "metadata": {},
   "outputs": [
    {
     "name": "stdout",
     "output_type": "stream",
     "text": [
      "0   AHOKIR01\n"
     ]
    },
    {
     "name": "stderr",
     "output_type": "stream",
     "text": [
      "/Users/Brian/workspace/Research/CO2_Capture_GNN/.conda/lib/python3.10/site-packages/tqdm/auto.py:21: TqdmWarning: IProgress not found. Please update jupyter and ipywidgets. See https://ipywidgets.readthedocs.io/en/stable/user_install.html\n",
      "  from .autonotebook import tqdm as notebook_tqdm\n",
      "Executing:  37%|███▋      | 10/27 [00:09<00:16,  1.02cell/s]\n"
     ]
    },
    {
     "ename": "PapermillExecutionError",
     "evalue": "\n---------------------------------------------------------------------------\nException encountered at \"In [8]\":\n---------------------------------------------------------------------------\nOverflowError                             Traceback (most recent call last)\nCell In[8], line 30\n     25         prod[j] = (qutip.qeye(2) + qutip.sigmaz()) / 2\n     26     return qutip.tensor(prod)\n---> 30 excited = excitation2([0,1,2,3,4,5],n)\n     32 excited = excitation(5,n)\n     35 qubits1 = dict(enumerate(G1))\n\nCell In[8], line 26, in excitation2(l, n)\n     24 for j in l:\n     25     prod[j] = (qutip.qeye(2) + qutip.sigmaz()) / 2\n---> 26 return qutip.tensor(prod)\n\nFile ~/workspace/Research/CO2_Capture_GNN/.conda/lib/python3.10/site-packages/qutip/tensor.py:84, in tensor(*args)\n     82     out.dims = q.dims\n     83 else:\n---> 84     out.data  = zcsr_kron(out.data, q.data)\n     86     out.dims = [out.dims[0] + q.dims[0], out.dims[1] + q.dims[1]]\n     88 out.isherm = out.isherm and q.isherm\n\nFile ~/workspace/Research/CO2_Capture_GNN/.conda/lib/python3.10/site-packages/qutip/cy/spmath.pyx:329, in qutip.cy.spmath.zcsr_kron()\n\nFile ~/workspace/Research/CO2_Capture_GNN/.conda/lib/python3.10/site-packages/qutip/cy/spmath.pyx:673, in qutip.cy.spmath._safe_multiply()\n\nOverflowError: value too large\n",
     "output_type": "error",
     "traceback": [
      "\u001b[0;31m---------------------------------------------------------------------------\u001b[0m",
      "\u001b[0;31mPapermillExecutionError\u001b[0m                   Traceback (most recent call last)",
      "\u001b[1;32m/Users/Brian/workspace/Research/CO2_Capture_GNN/master.ipynb Cell 3\u001b[0m line \u001b[0;36m3\n\u001b[1;32m      <a href='vscode-notebook-cell:/Users/Brian/workspace/Research/CO2_Capture_GNN/master.ipynb#W2sZmlsZQ%3D%3D?line=0'>1</a>\u001b[0m \u001b[39mfor\u001b[39;00m i,MOF \u001b[39min\u001b[39;00m \u001b[39menumerate\u001b[39m(MOFlist):\n\u001b[1;32m      <a href='vscode-notebook-cell:/Users/Brian/workspace/Research/CO2_Capture_GNN/master.ipynb#W2sZmlsZQ%3D%3D?line=1'>2</a>\u001b[0m     \u001b[39mprint\u001b[39m(i,\u001b[39m\"\u001b[39m\u001b[39m \u001b[39m\u001b[39m\"\u001b[39m, MOF)\n\u001b[0;32m----> <a href='vscode-notebook-cell:/Users/Brian/workspace/Research/CO2_Capture_GNN/master.ipynb#W2sZmlsZQ%3D%3D?line=2'>3</a>\u001b[0m     res \u001b[39m=\u001b[39m pm\u001b[39m.\u001b[39;49mexecute_notebook(\n\u001b[1;32m      <a href='vscode-notebook-cell:/Users/Brian/workspace/Research/CO2_Capture_GNN/master.ipynb#W2sZmlsZQ%3D%3D?line=3'>4</a>\u001b[0m         \u001b[39m'\u001b[39;49m\u001b[39mMOF_analysis_cloud.ipynb\u001b[39;49m\u001b[39m'\u001b[39;49m,\n\u001b[1;32m      <a href='vscode-notebook-cell:/Users/Brian/workspace/Research/CO2_Capture_GNN/master.ipynb#W2sZmlsZQ%3D%3D?line=4'>5</a>\u001b[0m         \u001b[39m'\u001b[39;49m\u001b[39mnotebooks/MOF_analysis_\u001b[39;49m\u001b[39m{MOF}\u001b[39;49;00m\u001b[39m.ipynb\u001b[39;49m\u001b[39m'\u001b[39;49m,\n\u001b[1;32m      <a href='vscode-notebook-cell:/Users/Brian/workspace/Research/CO2_Capture_GNN/master.ipynb#W2sZmlsZQ%3D%3D?line=5'>6</a>\u001b[0m         parameters \u001b[39m=\u001b[39;49m \u001b[39mdict\u001b[39;49m(MOF\u001b[39m=\u001b[39;49mMOF)\n\u001b[1;32m      <a href='vscode-notebook-cell:/Users/Brian/workspace/Research/CO2_Capture_GNN/master.ipynb#W2sZmlsZQ%3D%3D?line=6'>7</a>\u001b[0m     )\n\u001b[1;32m      <a href='vscode-notebook-cell:/Users/Brian/workspace/Research/CO2_Capture_GNN/master.ipynb#W2sZmlsZQ%3D%3D?line=7'>8</a>\u001b[0m     \u001b[39mbreak\u001b[39;00m\n",
      "File \u001b[0;32m~/workspace/Research/CO2_Capture_GNN/.conda/lib/python3.10/site-packages/papermill/execute.py:128\u001b[0m, in \u001b[0;36mexecute_notebook\u001b[0;34m(input_path, output_path, parameters, engine_name, request_save_on_cell_execute, prepare_only, kernel_name, language, progress_bar, log_output, stdout_file, stderr_file, start_timeout, report_mode, cwd, **engine_kwargs)\u001b[0m\n\u001b[1;32m    113\u001b[0m         nb \u001b[39m=\u001b[39m papermill_engines\u001b[39m.\u001b[39mexecute_notebook_with_engine(\n\u001b[1;32m    114\u001b[0m             engine_name,\n\u001b[1;32m    115\u001b[0m             nb,\n\u001b[0;32m   (...)\u001b[0m\n\u001b[1;32m    124\u001b[0m             \u001b[39m*\u001b[39m\u001b[39m*\u001b[39mengine_kwargs\n\u001b[1;32m    125\u001b[0m         )\n\u001b[1;32m    127\u001b[0m     \u001b[39m# Check for errors first (it saves on error before raising)\u001b[39;00m\n\u001b[0;32m--> 128\u001b[0m     raise_for_execution_errors(nb, output_path)\n\u001b[1;32m    130\u001b[0m \u001b[39m# Write final output in case the engine didn't write it on cell completion.\u001b[39;00m\n\u001b[1;32m    131\u001b[0m write_ipynb(nb, output_path)\n",
      "File \u001b[0;32m~/workspace/Research/CO2_Capture_GNN/.conda/lib/python3.10/site-packages/papermill/execute.py:232\u001b[0m, in \u001b[0;36mraise_for_execution_errors\u001b[0;34m(nb, output_path)\u001b[0m\n\u001b[1;32m    229\u001b[0m nb\u001b[39m.\u001b[39mcells\u001b[39m.\u001b[39minsert(\u001b[39m0\u001b[39m, error_msg_cell)\n\u001b[1;32m    231\u001b[0m write_ipynb(nb, output_path)\n\u001b[0;32m--> 232\u001b[0m \u001b[39mraise\u001b[39;00m error\n",
      "\u001b[0;31mPapermillExecutionError\u001b[0m: \n---------------------------------------------------------------------------\nException encountered at \"In [8]\":\n---------------------------------------------------------------------------\nOverflowError                             Traceback (most recent call last)\nCell In[8], line 30\n     25         prod[j] = (qutip.qeye(2) + qutip.sigmaz()) / 2\n     26     return qutip.tensor(prod)\n---> 30 excited = excitation2([0,1,2,3,4,5],n)\n     32 excited = excitation(5,n)\n     35 qubits1 = dict(enumerate(G1))\n\nCell In[8], line 26, in excitation2(l, n)\n     24 for j in l:\n     25     prod[j] = (qutip.qeye(2) + qutip.sigmaz()) / 2\n---> 26 return qutip.tensor(prod)\n\nFile ~/workspace/Research/CO2_Capture_GNN/.conda/lib/python3.10/site-packages/qutip/tensor.py:84, in tensor(*args)\n     82     out.dims = q.dims\n     83 else:\n---> 84     out.data  = zcsr_kron(out.data, q.data)\n     86     out.dims = [out.dims[0] + q.dims[0], out.dims[1] + q.dims[1]]\n     88 out.isherm = out.isherm and q.isherm\n\nFile ~/workspace/Research/CO2_Capture_GNN/.conda/lib/python3.10/site-packages/qutip/cy/spmath.pyx:329, in qutip.cy.spmath.zcsr_kron()\n\nFile ~/workspace/Research/CO2_Capture_GNN/.conda/lib/python3.10/site-packages/qutip/cy/spmath.pyx:673, in qutip.cy.spmath._safe_multiply()\n\nOverflowError: value too large\n"
     ]
    }
   ],
   "source": [
    "\n",
    "for i,MOF in enumerate(MOFlist):\n",
    "    print(i,\" \", MOF)\n",
    "    res = pm.execute_notebook(\n",
    "        'MOF_analysis_cloud.ipynb',\n",
    "        'notebooks/MOF_analysis_{MOF}.ipynb',\n",
    "        parameters = dict(MOF=MOF)\n",
    "    )\n",
    "    break"
   ]
  }
 ],
 "metadata": {
  "kernelspec": {
   "display_name": "Python 3",
   "language": "python",
   "name": "python3"
  },
  "language_info": {
   "codemirror_mode": {
    "name": "ipython",
    "version": 3
   },
   "file_extension": ".py",
   "mimetype": "text/x-python",
   "name": "python",
   "nbconvert_exporter": "python",
   "pygments_lexer": "ipython3",
   "version": "3.10.13"
  }
 },
 "nbformat": 4,
 "nbformat_minor": 2
}
