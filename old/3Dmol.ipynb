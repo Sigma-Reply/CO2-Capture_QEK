{
 "cells": [
  {
   "cell_type": "code",
   "execution_count": null,
   "metadata": {},
   "outputs": [],
   "source": [
    "from rdkit import Chem\n",
    "from rdkit.Chem import rdchem\n",
    "import numpy as np\n",
    "\n",
    "#raw_mol = Chem.MolFromXYZFile('test_mocjeu.xyz')\n",
    "#mol = Chem.Mol(raw_mol)\n",
    "\n",
    "xyz_array =  np.array([[3.1440384940848567 ,2.8503795863246677 ,0.25667913207967796],\n",
    "[1.831633481356443, 1.1719986203652768 ,3.4959397579740936],\n",
    "[2.6444337633621604, 3.101480294983625 ,3.674564417140653],\n",
    "[2.331238212079139, 0.9208979117063194 ,0.07805447291311844],\n",
    "[2.4797570115323726, 2.929252852971008 ,2.993839350484899],\n",
    "[2.4959149639089273, 1.0931253537189365 ,0.7587795395688726],\n",
    "[1.004316275325198, 3.467593568337421 ,1.8789362782499235],\n",
    "[3.971355700116102, 0.5547846383525239 ,1.8736826118038483],\n",
    "[0.7930508589546927, 3.418782818975785 ,0.13396849437491964],\n",
    "[2.030788506785385, 2.8597818774954673 ,0.3959012929006729],\n",
    "[2.121343250260719, 2.457996048798557 ,3.664432346137508],\n",
    "[0.7447736687499908, 2.8614413226807187, 1.3002824454036317],\n",
    "[3.433797001052848, 0.4465443307363275, 1.2995319216256211],\n",
    "[4.182621116486607, 0.603595387714159 ,3.618650395678852],\n",
    "[2.944883468655915, 1.1625963291944772, 3.3567175971530987],\n",
    "[2.854328725180581, 1.5643821578913877, 0.08818654391626363],\n",
    "[4.2308983066913095, 1.1609368840092258, 2.4523364446501397],\n",
    "[1.5418749743884517, 3.575833875953617, 2.4530869684281504]])\n",
    "\n",
    "\n",
    "xyz_array*=1.08\n",
    "\n",
    "xyz_label= [\n",
    "\"Er \" ,\n",
    "\"Er \",\n",
    "\"P \" ,\n",
    "\"P \" ,\n",
    "\"H \" ,\n",
    "\"H \" ,\n",
    "\"C \",\n",
    "\"C \",\n",
    "\"O \",\n",
    "\"O \",\n",
    "\"O \",\n",
    "\"O \",\n",
    "\"O \",\n",
    "\"O \",\n",
    "\"O \",\n",
    "\"O \",\n",
    "\"O \",\n",
    "\"O \" \n",
    "\n",
    "]\n",
    "\n",
    "xyz = '''18\n",
    "\n",
    "'''\n",
    "#str(xyz_array[0]).replace(',','').replace('[','').replace(']','')\n"
   ]
  },
  {
   "cell_type": "code",
   "execution_count": null,
   "metadata": {},
   "outputs": [],
   "source": [
    "for atom,coords in list(zip(xyz_label,xyz_array)):\n",
    "    xyz += atom + str(coords).replace(',','').replace('[','').replace(']','')+'\\n'\n",
    "\n",
    "print(xyz)"
   ]
  },
  {
   "cell_type": "code",
   "execution_count": null,
   "metadata": {},
   "outputs": [],
   "source": [
    "import py3Dmol\n",
    "from rdkit.Chem.Draw import IPythonConsole\n",
    "IPythonConsole.ipython_3d = True\n",
    "\n",
    "mol = Chem.MolFromXYZBlock(xyz)\n",
    "\n",
    "def draw_with_spheres(mol):\n",
    "    v = py3Dmol.view(width=300,height=300)\n",
    "    IPythonConsole.addMolToView(mol,v)\n",
    "    v.zoomTo()\n",
    "    v.setStyle({'sphere':{'radius':0.3},'stick':{'radius':0.2}});\n",
    "    v.show()\n",
    "\n",
    "draw_with_spheres(mol)"
   ]
  },
  {
   "cell_type": "code",
   "execution_count": null,
   "metadata": {},
   "outputs": [],
   "source": [
    "from rdkit.Chem import rdDetermineBonds\n",
    "#conn_mol = Chem.Mol(mol)\n",
    "rdDetermineBonds.DetermineConnectivity(mol,charge=0)\n",
    "#rdDetermineBonds.DetermineBondOrders(mol,charge=0)\n",
    "\n",
    "print(len(list(mol.GetBonds())))\n",
    "\n",
    "draw_with_spheres(mol)"
   ]
  },
  {
   "cell_type": "code",
   "execution_count": null,
   "metadata": {},
   "outputs": [],
   "source": [
    "from mofdb_client import fetch\n",
    "# Fetch all mofs with void fraction >= 0.5 and <= 0.99\n",
    "# Convert all isotherm loading units to mmol/g and all pressures to atmospheres\n",
    "for mof in fetch(name=\"MOCJEU\"):\n",
    "    print(mof.mofid)"
   ]
  }
 ],
 "metadata": {
  "language_info": {
   "name": "python"
  }
 },
 "nbformat": 4,
 "nbformat_minor": 2
}
